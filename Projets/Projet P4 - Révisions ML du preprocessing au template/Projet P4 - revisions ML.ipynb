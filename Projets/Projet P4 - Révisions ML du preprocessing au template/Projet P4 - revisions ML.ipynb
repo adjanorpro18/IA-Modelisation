{
 "cells": [
  {
   "cell_type": "markdown",
   "metadata": {},
   "source": [
    "1. [Import des librairies](#import_lib)<br>\n",
    "2. [Import des données](#import_data)<br>\n",
    "3. [Nettoyage des donnéees](#data_cleaning)<br>\n",
    "4. [Analyse exploratoire](#exploration)<br>\n",
    "5. [Pré-traitement](#preprocess)<br>\n",
    "6. [Une régression linéaire](#reglin)<br>\n",
    "7. [D'autres modèles de régression](#autres_reg)<br>\n",
    "8. [De la régression à la classification](#reg_to_class)<br>\n",
    "9. [Une régression logistique](#reglog)<br>\n",
    "10. [D'autres modèles de classification](#autre_class)<br>\n",
    "11. [En option](#option)<br>\n",
    "    11.1 [Un outil de recommandation](#reco)<br>\n",
    "    11.2 [Sauvegarder un modèle](#save)<br>\n",
    "    11.3 [Analyse en composantes principales](#acp)<br>"
   ]
  },
  {
   "cell_type": "markdown",
   "metadata": {
    "collapsed": false
   },
   "source": [
    "Vous allez travailler sur des données extraites de IMDB. On a déjà un peu manipulé des données de films donc vous serez pas complètement perdus comme ça. La variable d'intérêt sera la notation IMDB des films. En effet le succès commercial d'un film n'implique pas nécessairement sa qualité et il convient donc d'aller chercher plus loin que le simple profit dégagé d'une production cinématographique...\n",
    "À vous !!\n",
    "\n",
    "Les **objectifs** de ce projet sont multiples :\n",
    "1. Réviser\n",
    "2. Pratiquer\n",
    "3. Vous auto-évaluer et vous évaluer (pour nous)\n",
    "4. Vous rassurer et vous permettre de réaliser ce que vous savez faire pour pouvoir en parler"
   ]
  },
  {
   "cell_type": "markdown",
   "metadata": {},
   "source": [
    "<a id='import_lib'></a>"
   ]
  },
  {
   "cell_type": "markdown",
   "metadata": {
    "colab_type": "text",
    "id": "_2oUOp-mixIv"
   },
   "source": [
    "## **1. Import des libraries**"
   ]
  },
  {
   "cell_type": "markdown",
   "metadata": {},
   "source": [
    "**À FAIRE**\n",
    "\n",
    "> Importer dans la cellule l'ensemble des librairies nécessaires à votre travail. L'idée n'est pas de savoir immédiatement tout ce dont vous aurez besoin mais de faire des aller-retours pour y ajouter vos librairies petit à petit. L'intérêt est une meilleure lisibilité pour un lecteur extérieur qui, en quelques lignes d'import, pourra déjà avoir une idée de ce qui a été fait."
   ]
  },
  {
   "cell_type": "code",
   "execution_count": 3,
   "metadata": {},
   "outputs": [],
   "source": [
    "# Importations  des librairies necessaires au projet\n",
    "import numpy as np\n",
    "import pandas as pd\n",
    "import matplotlib.pyplot as plt\n",
    "import seaborn as sns"
   ]
  },
  {
   "cell_type": "markdown",
   "metadata": {
    "colab_type": "text",
    "id": "nNnaPdClkRvC"
   },
   "source": [
    "## **2. Import des données**"
   ]
  },
  {
   "cell_type": "code",
   "execution_count": 4,
   "outputs": [],
   "source": [
    "# **Projet P4 - révisions et pratique**"
   ],
   "metadata": {
    "collapsed": false,
    "pycharm": {
     "name": "#%%\n"
    }
   }
  },
  {
   "cell_type": "markdown",
   "metadata": {},
   "source": [
    "**À FAIRE**\n",
    "\n",
    "> Importer les données `5000_movies_bis.csv` disponible à la racine de ce document.  \n",
    "> Afficher les 7 premières lignes et **toutes** les colonnes.    \n",
    "> Répondre aux questions suivantes (répondez à toutes les questions dans une seule cellule Markdown mais évidemment le code vous ayant permis d'extraire ces informations doit être présent):\n",
    ">- combien y a-t-il d'observations/de variables ?\n",
    ">- sur combien d'années se répartissent les données ?\n",
    ">- combien de pays sont représentés ?\n",
    ">- combien de réalisateurs différents dans la base ?\n",
    ">- combien d'acteurs et d'actrices différentes ?"
   ]
  },
  {
   "cell_type": "code",
   "execution_count": 5,
   "metadata": {
    "collapsed": false,
    "pycharm": {
     "name": "#%%\n"
    }
   },
   "outputs": [
    {
     "data": {
      "text/plain": "   color      director_name  num_critic_for_reviews  duration  \\\n0  Color      James Cameron                   723.0     178.0   \n1  Color     Gore Verbinski                   302.0     169.0   \n2  Color         Sam Mendes                   602.0     148.0   \n3  Color  Christopher Nolan                   813.0     164.0   \n4    NaN        Doug Walker                     NaN       NaN   \n\n   director_fb_likes  actor_3_fb_likes      actor_2_name  actor_1_fb_likes  \\\n0                0.0             855.0  Joel David Moore            1000.0   \n1              563.0            1000.0     Orlando Bloom           40000.0   \n2                0.0             161.0      Rory Kinnear           11000.0   \n3            22000.0           23000.0    Christian Bale           27000.0   \n4              131.0               NaN        Rob Walker             131.0   \n\n         gross                           genres     actor_1_name  \\\n0  760505847.0  Action|Adventure|Fantasy|Sci-Fi      CCH Pounder   \n1  309404152.0         Action|Adventure|Fantasy      Johnny Depp   \n2  200074175.0        Action|Adventure|Thriller  Christoph Waltz   \n3  448130642.0                  Action|Thriller        Tom Hardy   \n4          NaN                      Documentary      Doug Walker   \n\n                                         movie_title  num_voted_users  \\\n0                                            Avatar            886204   \n1          Pirates of the Caribbean: At World's End            471220   \n2                                           Spectre            275868   \n3                             The Dark Knight Rises           1144337   \n4  Star Wars: Episode VII - The Force Awakens    ...                8   \n\n   cast_total_fb_likes          actor_3_name  facenumber_in_poster  \\\n0                 4834             Wes Studi                   0.0   \n1                48350        Jack Davenport                   0.0   \n2                11700      Stephanie Sigman                   1.0   \n3               106759  Joseph Gordon-Levitt                   0.0   \n4                  143                   NaN                   0.0   \n\n                                       plot_keywords  \\\n0             avatar|future|marine|native|paraplegic   \n1  goddess|marriage ceremony|marriage proposal|pi...   \n2                bomb|espionage|sequel|spy|terrorist   \n3  deception|imprisonment|lawlessness|police offi...   \n4                                                NaN   \n\n                                     movie_imdb_link  num_user_for_reviews  \\\n0  http://www.imdb.com/title/tt0499549/?ref_=fn_t...                3054.0   \n1  http://www.imdb.com/title/tt0449088/?ref_=fn_t...                1238.0   \n2  http://www.imdb.com/title/tt2379713/?ref_=fn_t...                 994.0   \n3  http://www.imdb.com/title/tt1345836/?ref_=fn_t...                2701.0   \n4  http://www.imdb.com/title/tt5289954/?ref_=fn_t...                   NaN   \n\n  language country content_rating       budget  title_year  actor_2_fb_likes  \\\n0  English     USA          PG-13  237000000.0      2009.0             936.0   \n1  English     USA          PG-13  300000000.0      2007.0            5000.0   \n2  English      UK          PG-13  245000000.0      2015.0             393.0   \n3  English     USA          PG-13  250000000.0      2012.0           23000.0   \n4      NaN     NaN            NaN          NaN         NaN              12.0   \n\n   imdb_score  aspect_ratio  movie_fb_likes  \n0         7.9          1.78           33000  \n1         7.1          2.35               0  \n2         6.8          2.35           85000  \n3         8.5          2.35          164000  \n4         7.1           NaN               0  ",
      "text/html": "<div>\n<style scoped>\n    .dataframe tbody tr th:only-of-type {\n        vertical-align: middle;\n    }\n\n    .dataframe tbody tr th {\n        vertical-align: top;\n    }\n\n    .dataframe thead th {\n        text-align: right;\n    }\n</style>\n<table border=\"1\" class=\"dataframe\">\n  <thead>\n    <tr style=\"text-align: right;\">\n      <th></th>\n      <th>color</th>\n      <th>director_name</th>\n      <th>num_critic_for_reviews</th>\n      <th>duration</th>\n      <th>director_fb_likes</th>\n      <th>actor_3_fb_likes</th>\n      <th>actor_2_name</th>\n      <th>actor_1_fb_likes</th>\n      <th>gross</th>\n      <th>genres</th>\n      <th>actor_1_name</th>\n      <th>movie_title</th>\n      <th>num_voted_users</th>\n      <th>cast_total_fb_likes</th>\n      <th>actor_3_name</th>\n      <th>facenumber_in_poster</th>\n      <th>plot_keywords</th>\n      <th>movie_imdb_link</th>\n      <th>num_user_for_reviews</th>\n      <th>language</th>\n      <th>country</th>\n      <th>content_rating</th>\n      <th>budget</th>\n      <th>title_year</th>\n      <th>actor_2_fb_likes</th>\n      <th>imdb_score</th>\n      <th>aspect_ratio</th>\n      <th>movie_fb_likes</th>\n    </tr>\n  </thead>\n  <tbody>\n    <tr>\n      <th>0</th>\n      <td>Color</td>\n      <td>James Cameron</td>\n      <td>723.0</td>\n      <td>178.0</td>\n      <td>0.0</td>\n      <td>855.0</td>\n      <td>Joel David Moore</td>\n      <td>1000.0</td>\n      <td>760505847.0</td>\n      <td>Action|Adventure|Fantasy|Sci-Fi</td>\n      <td>CCH Pounder</td>\n      <td>Avatar</td>\n      <td>886204</td>\n      <td>4834</td>\n      <td>Wes Studi</td>\n      <td>0.0</td>\n      <td>avatar|future|marine|native|paraplegic</td>\n      <td>http://www.imdb.com/title/tt0499549/?ref_=fn_t...</td>\n      <td>3054.0</td>\n      <td>English</td>\n      <td>USA</td>\n      <td>PG-13</td>\n      <td>237000000.0</td>\n      <td>2009.0</td>\n      <td>936.0</td>\n      <td>7.9</td>\n      <td>1.78</td>\n      <td>33000</td>\n    </tr>\n    <tr>\n      <th>1</th>\n      <td>Color</td>\n      <td>Gore Verbinski</td>\n      <td>302.0</td>\n      <td>169.0</td>\n      <td>563.0</td>\n      <td>1000.0</td>\n      <td>Orlando Bloom</td>\n      <td>40000.0</td>\n      <td>309404152.0</td>\n      <td>Action|Adventure|Fantasy</td>\n      <td>Johnny Depp</td>\n      <td>Pirates of the Caribbean: At World's End</td>\n      <td>471220</td>\n      <td>48350</td>\n      <td>Jack Davenport</td>\n      <td>0.0</td>\n      <td>goddess|marriage ceremony|marriage proposal|pi...</td>\n      <td>http://www.imdb.com/title/tt0449088/?ref_=fn_t...</td>\n      <td>1238.0</td>\n      <td>English</td>\n      <td>USA</td>\n      <td>PG-13</td>\n      <td>300000000.0</td>\n      <td>2007.0</td>\n      <td>5000.0</td>\n      <td>7.1</td>\n      <td>2.35</td>\n      <td>0</td>\n    </tr>\n    <tr>\n      <th>2</th>\n      <td>Color</td>\n      <td>Sam Mendes</td>\n      <td>602.0</td>\n      <td>148.0</td>\n      <td>0.0</td>\n      <td>161.0</td>\n      <td>Rory Kinnear</td>\n      <td>11000.0</td>\n      <td>200074175.0</td>\n      <td>Action|Adventure|Thriller</td>\n      <td>Christoph Waltz</td>\n      <td>Spectre</td>\n      <td>275868</td>\n      <td>11700</td>\n      <td>Stephanie Sigman</td>\n      <td>1.0</td>\n      <td>bomb|espionage|sequel|spy|terrorist</td>\n      <td>http://www.imdb.com/title/tt2379713/?ref_=fn_t...</td>\n      <td>994.0</td>\n      <td>English</td>\n      <td>UK</td>\n      <td>PG-13</td>\n      <td>245000000.0</td>\n      <td>2015.0</td>\n      <td>393.0</td>\n      <td>6.8</td>\n      <td>2.35</td>\n      <td>85000</td>\n    </tr>\n    <tr>\n      <th>3</th>\n      <td>Color</td>\n      <td>Christopher Nolan</td>\n      <td>813.0</td>\n      <td>164.0</td>\n      <td>22000.0</td>\n      <td>23000.0</td>\n      <td>Christian Bale</td>\n      <td>27000.0</td>\n      <td>448130642.0</td>\n      <td>Action|Thriller</td>\n      <td>Tom Hardy</td>\n      <td>The Dark Knight Rises</td>\n      <td>1144337</td>\n      <td>106759</td>\n      <td>Joseph Gordon-Levitt</td>\n      <td>0.0</td>\n      <td>deception|imprisonment|lawlessness|police offi...</td>\n      <td>http://www.imdb.com/title/tt1345836/?ref_=fn_t...</td>\n      <td>2701.0</td>\n      <td>English</td>\n      <td>USA</td>\n      <td>PG-13</td>\n      <td>250000000.0</td>\n      <td>2012.0</td>\n      <td>23000.0</td>\n      <td>8.5</td>\n      <td>2.35</td>\n      <td>164000</td>\n    </tr>\n    <tr>\n      <th>4</th>\n      <td>NaN</td>\n      <td>Doug Walker</td>\n      <td>NaN</td>\n      <td>NaN</td>\n      <td>131.0</td>\n      <td>NaN</td>\n      <td>Rob Walker</td>\n      <td>131.0</td>\n      <td>NaN</td>\n      <td>Documentary</td>\n      <td>Doug Walker</td>\n      <td>Star Wars: Episode VII - The Force Awakens    ...</td>\n      <td>8</td>\n      <td>143</td>\n      <td>NaN</td>\n      <td>0.0</td>\n      <td>NaN</td>\n      <td>http://www.imdb.com/title/tt5289954/?ref_=fn_t...</td>\n      <td>NaN</td>\n      <td>NaN</td>\n      <td>NaN</td>\n      <td>NaN</td>\n      <td>NaN</td>\n      <td>NaN</td>\n      <td>12.0</td>\n      <td>7.1</td>\n      <td>NaN</td>\n      <td>0</td>\n    </tr>\n  </tbody>\n</table>\n</div>"
     },
     "execution_count": 5,
     "metadata": {},
     "output_type": "execute_result"
    }
   ],
   "source": [
    "# Affichage des données exploratoires de la dataframe\n",
    "df = pd.read_csv('5000_movies_bis.csv')\n",
    "pd.set_option('display.max_columns', 30)\n",
    "df.head()"
   ]
  },
  {
   "cell_type": "code",
   "execution_count": 6,
   "metadata": {
    "pycharm": {
     "name": "#%%\n"
    }
   },
   "outputs": [
    {
     "name": "stdout",
     "output_type": "stream",
     "text": [
      "(5043, 28)\n",
      "100.0\n",
      "(65,)\n",
      "(2399,)\n",
      "6255\n"
     ]
    }
   ],
   "source": [
    " ##  combien y a-t-il d'observations/de variables ?\n",
    "\n",
    "print(df.shape)\n",
    "\n",
    "## sur combien d'années se répartissent les données ?\n",
    "\n",
    "print(np.max( df['title_year']) - np.min( df['title_year']) )\n",
    "\n",
    "##  combien de pays sont représentés ?\n",
    "\n",
    "print(df['country'].value_counts().shape)\n",
    "\n",
    "## combien de réalisateurs différents dans la base ?\n",
    "\n",
    "print(df['director_name'].unique().shape)\n",
    "\n",
    "## combien d'acteurs et d'actrices différentes ?\n",
    "\n",
    "actors = pd.Series( df[['actor_1_name','actor_2_name','actor_3_name']].values.flatten())\n",
    "print(actors.nunique(dropna=True))\n"
   ]
  },
  {
   "cell_type": "markdown",
   "metadata": {
    "collapsed": false,
    "pycharm": {
     "name": "#%% md\n"
    }
   },
   "source": [
    "<a id='data_cleaning'></a>"
   ]
  },
  {
   "cell_type": "markdown",
   "metadata": {
    "pycharm": {
     "name": "#%% md\n"
    }
   },
   "source": [
    "\n",
    "## **3. Nettoyage des données**"
   ]
  },
  {
   "cell_type": "markdown",
   "metadata": {
    "colab_type": "text",
    "id": "nNnaPdClkRvC"
   },
   "source": [
    "**À FAIRE**\n",
    "\n",
    "> Vous allez dans cette partie vous occuper de faire les opérations de nettoyage sur les données. Cela implique donc de regarder en détail :\n",
    ">- les doublons\n",
    ">- les variables (à supprimer, à modifier etc...)\n",
    ">- les valeurs manquantes\n",
    ">- les zéros\n",
    "> \n",
    ">Ajouter une courte explication des décisions que vous prendrez (gestion des valeurs manquantes, suppression ou modification de certaines variables, etc...)."
   ]
  },
  {
   "cell_type": "markdown",
   "metadata": {},
   "source": [
    "#### **Les doublons**"
   ]
  },
  {
   "cell_type": "code",
   "execution_count": 7,
   "metadata": {
    "pycharm": {
     "name": "#%%\n"
    }
   },
   "outputs": [
    {
     "data": {
      "text/plain": "45"
     },
     "execution_count": 7,
     "metadata": {},
     "output_type": "execute_result"
    }
   ],
   "source": [
    "# Identifier les doublons dans la dataframe \n",
    "\n",
    "sum(df.duplicated())"
   ]
  },
  {
   "cell_type": "code",
   "execution_count": 8,
   "metadata": {
    "collapsed": false,
    "pycharm": {
     "name": "#%%\n"
    }
   },
   "outputs": [
    {
     "data": {
      "text/plain": "(4998, 28)"
     },
     "execution_count": 8,
     "metadata": {},
     "output_type": "execute_result"
    }
   ],
   "source": [
    "#Suppression des doublons de la dataframe\n",
    "\n",
    "df.drop_duplicates(inplace=True) \n",
    "df.shape"
   ]
  },
  {
   "cell_type": "markdown",
   "metadata": {
    "pycharm": {
     "name": "#%% md\n"
    }
   },
   "source": [
    "On dispose de 45 doublons dans la dataframe dont pour plus de fiabilité du fait de la redondance des informations, j'ai décidé de les supprimer"
   ]
  },
  {
   "cell_type": "markdown",
   "metadata": {
    "pycharm": {
     "name": "#%% md\n"
    }
   },
   "source": [
    "#### **Suppression de variables**"
   ]
  },
  {
   "cell_type": "code",
   "execution_count": 9,
   "metadata": {
    "pycharm": {
     "name": "#%%\n"
    }
   },
   "outputs": [
    {
     "data": {
      "text/plain": "Index(['color', 'director_name', 'num_critic_for_reviews', 'duration',\n       'director_fb_likes', 'actor_3_fb_likes', 'actor_2_name',\n       'actor_1_fb_likes', 'gross', 'genres', 'actor_1_name', 'movie_title',\n       'num_voted_users', 'cast_total_fb_likes', 'actor_3_name',\n       'facenumber_in_poster', 'plot_keywords', 'movie_imdb_link',\n       'num_user_for_reviews', 'language', 'country', 'content_rating',\n       'budget', 'title_year', 'actor_2_fb_likes', 'imdb_score',\n       'aspect_ratio', 'movie_fb_likes'],\n      dtype='object')"
     },
     "execution_count": 9,
     "metadata": {},
     "output_type": "execute_result"
    }
   ],
   "source": [
    "df.columns"
   ]
  },
  {
   "cell_type": "code",
   "execution_count": 10,
   "metadata": {
    "pycharm": {
     "name": "#%%\n"
    }
   },
   "outputs": [],
   "source": [
    "df.drop(['plot_keywords', 'movie_imdb_link'], axis =1, inplace =True)"
   ]
  },
  {
   "cell_type": "markdown",
   "metadata": {
    "pycharm": {
     "name": "#%% md\n"
    }
   },
   "source": [
    "J'ai supprimé ces variables car leurs utilité s'avère moins necessaire pour cette étude"
   ]
  },
  {
   "cell_type": "markdown",
   "metadata": {
    "pycharm": {
     "name": "#%% md\n"
    }
   },
   "source": [
    "# Les valeurs manquantes et les zéros"
   ]
  },
  {
   "cell_type": "markdown",
   "metadata": {},
   "source": [
    "**Visualisation d'abord la distribution des zeros et des NaNs dans les différentes variables**"
   ]
  },
  {
   "cell_type": "code",
   "execution_count": 11,
   "metadata": {
    "pycharm": {
     "name": "#%%\n"
    }
   },
   "outputs": [
    {
     "data": {
      "text/plain": "<Figure size 1728x576 with 2 Axes>",
      "image/png": "[encoded data removed]"
     },
     "metadata": {
      "needs_background": "light"
     },
     "output_type": "display_data"
    }
   ],
   "source": [
    "fig, ax = plt.subplots(1,2, figsize=(24,8))\n",
    "sns.heatmap(df == 0, yticklabels=False,  ax = ax[0], cbar=False)\n",
    "ax[0].set_title('Les zeros')\n",
    "sns.heatmap(df.isnull(), yticklabels=False, ax=ax[1], cbar = False)\n",
    "ax[1].set_title('Les NaNs');\n"
   ]
  },
  {
   "cell_type": "markdown",
   "metadata": {
    "pycharm": {
     "name": "#%% md\n"
    }
   },
   "source": [
    "<a id='import_data'></a>"
   ]
  },
  {
   "cell_type": "markdown",
   "metadata": {},
   "source": [
    "# Gestion des zeros"
   ]
  },
  {
   "cell_type": "markdown",
   "metadata": {
    "collapsed": false
   },
   "source": [
    "Pour les valeurs 0, on observe une forte fréquence pour les variables 'director_fb_likes', 'facenumber_in_poster' et 'movie_fb_likes'. Mais la particularité de 'facenumber_in_poster' paraisse incohérente vis-à-vis des deux autres qui semblent être plus ou moins correctes. Le mieux serait de les remplacer par des NaNs"
   ]
  },
  {
   "cell_type": "markdown",
   "metadata": {
    "collapsed": false
   },
   "source": [
    "**Visualisons à nouveau les Zéros avec les valeurs nouvelles des varaibles \"NaNs\" avec celles de 'face_number_in_poster' qui restent inchangées**"
   ]
  },
  {
   "cell_type": "code",
   "execution_count": 12,
   "metadata": {},
   "outputs": [
    {
     "data": {
      "text/plain": "<Figure size 1512x576 with 1 Axes>",
      "image/png": "[encoded data removed]"
     },
     "metadata": {
      "needs_background": "light"
     },
     "output_type": "display_data"
    }
   ],
   "source": [
    "fig = plt.figure(figsize=(21,8))\n",
    "sns.heatmap(df == 0, yticklabels=False, cbar=False)\n",
    "plt.suptitle('Les zeros');\n"
   ]
  },
  {
   "cell_type": "code",
   "execution_count": 13,
   "metadata": {
    "collapsed": false,
    "pycharm": {
     "name": "#%%\n"
    }
   },
   "outputs": [],
   "source": [
    "#cols = df.columns[(df==0).any()].drop('facenumber_in_poster')\n",
    "#df[cols]= df[cols].replace(0, np.nan)"
   ]
  },
  {
   "cell_type": "markdown",
   "metadata": {
    "collapsed": false
   },
   "source": []
  },
  {
   "cell_type": "markdown",
   "metadata": {
    "collapsed": false
   },
   "source": [
    "**Gestion des NaNs**"
   ]
  },
  {
   "cell_type": "markdown",
   "metadata": {},
   "source": [
    "\n",
    "On constate que les la proportion des variables 'movie_fb_likes' et 'director_fb_likes' font elles seules environ 2/3 des données de la dataframe ce qui peut l'impacter fortement dans les predictions. Donc je décide de ne pas les garder"
   ]
  },
  {
   "cell_type": "code",
   "execution_count": 14,
   "metadata": {
    "collapsed": false,
    "pycharm": {
     "name": "#%%\n"
    }
   },
   "outputs": [
    {
     "data": {
      "text/plain": "gross                     0.134254\nbudget                    0.080232\naspect_ratio              0.065426\ncontent_rating            0.060224\ntitle_year                0.021409\ndirector_name             0.020608\ndirector_fb_likes         0.020608\nnum_critic_for_reviews    0.009804\nactor_3_fb_likes          0.004602\nactor_3_name              0.004602\nnum_user_for_reviews      0.004202\ncolor                     0.003802\nduration                  0.003001\nactor_2_fb_likes          0.002601\nfacenumber_in_poster      0.002601\nactor_2_name              0.002601\nlanguage                  0.002401\nactor_1_fb_likes          0.001401\nactor_1_name              0.001401\ncountry                   0.001000\nimdb_score                0.000000\ncast_total_fb_likes       0.000000\nnum_voted_users           0.000000\nmovie_title               0.000000\ngenres                    0.000000\nmovie_fb_likes            0.000000\ndtype: float64"
     },
     "execution_count": 14,
     "metadata": {},
     "output_type": "execute_result"
    }
   ],
   "source": [
    "#Proportion des NaNs sur l'ensemble des observations de la dataframe\n",
    "df.isnull().sum().sort_values(ascending = False)/len(df)"
   ]
  },
  {
   "cell_type": "code",
   "execution_count": 15,
   "metadata": {},
   "outputs": [
    {
     "data": {
      "text/plain": "(4998, 24)"
     },
     "execution_count": 15,
     "metadata": {},
     "output_type": "execute_result"
    }
   ],
   "source": [
    "# Suppression des deux colonnes ayant une part importante des NaN\n",
    "df.drop(['movie_fb_likes','director_fb_likes'], axis=1, inplace=True)\n",
    "df.shape"
   ]
  },
  {
   "cell_type": "code",
   "execution_count": 16,
   "metadata": {},
   "outputs": [
    {
     "data": {
      "text/plain": "<Figure size 1728x576 with 1 Axes>",
      "image/png": "[encoded data removed]"
     },
     "metadata": {
      "needs_background": "light"
     },
     "output_type": "display_data"
    }
   ],
   "source": [
    "fig = plt.figure(figsize=(24,8))\n",
    "sns.heatmap(df.isnull(), yticklabels=False, cbar=False)\n",
    "plt.suptitle('Les NaNs');"
   ]
  },
  {
   "cell_type": "markdown",
   "metadata": {},
   "source": [
    "\n",
    "\n",
    "\n",
    "\n",
    "#### **Modification de variables**"
   ]
  },
  {
   "cell_type": "markdown",
   "metadata": {},
   "source": [
    "**Verifier l'affichage des informations variables  pour corriger quelques incohérences d'orthographes**"
   ]
  },
  {
   "cell_type": "code",
   "execution_count": 17,
   "metadata": {
    "collapsed": false,
    "pycharm": {
     "name": "#%%\n"
    }
   },
   "outputs": [
    {
     "data": {
      "text/plain": "Index(['color', 'director_name', 'num_critic_for_reviews', 'duration',\n       'actor_3_fb_likes', 'actor_2_name', 'actor_1_fb_likes', 'gross',\n       'genres', 'actor_1_name', 'movie_title', 'num_voted_users',\n       'cast_total_fb_likes', 'actor_3_name', 'facenumber_in_poster',\n       'num_user_for_reviews', 'language', 'country', 'content_rating',\n       'budget', 'title_year', 'actor_2_fb_likes', 'imdb_score',\n       'aspect_ratio'],\n      dtype='object')"
     },
     "execution_count": 17,
     "metadata": {},
     "output_type": "execute_result"
    }
   ],
   "source": [
    "df.columns"
   ]
  },
  {
   "cell_type": "code",
   "execution_count": 18,
   "metadata": {},
   "outputs": [
    {
     "data": {
      "text/plain": "array(['Color', 'James Cameron', 723.0, 178.0, 855.0, 'Joel David Moore',\n       1000.0, 760505847.0, 'Action|Adventure|Fantasy|Sci-Fi',\n       'CCH Pounder', 'Avatar\\xa0', 886204, 4834, 'Wes Studi', 0.0,\n       3054.0, 'English', 'USA', 'PG-13', 237000000.0, 2009.0, 936.0, 7.9,\n       1.78], dtype=object)"
     },
     "execution_count": 18,
     "metadata": {},
     "output_type": "execute_result"
    }
   ],
   "source": [
    "df.loc[0].values"
   ]
  },
  {
   "cell_type": "markdown",
   "metadata": {},
   "source": [
    "**On voit que dans la notation du titre de film présente  \\xa0 qu'il faut enlever**"
   ]
  },
  {
   "cell_type": "code",
   "execution_count": 19,
   "metadata": {},
   "outputs": [],
   "source": [
    "df.movie_title = df.movie_title.apply(lambda x: x.replace('\\xa0',''))"
   ]
  },
  {
   "cell_type": "markdown",
   "metadata": {},
   "source": [
    "**Gerer la variable content_rating en detail puis apporter quelques redéfinitions des valeurs sur les attributs**"
   ]
  },
  {
   "cell_type": "code",
   "execution_count": 20,
   "metadata": {},
   "outputs": [
    {
     "data": {
      "text/plain": "R            2098\nPG-13        1444\nPG            698\nNot Rated     116\nG             112\nUnrated        60\nApproved       55\nTV-14          30\nTV-MA          19\nTV-PG          13\nX              13\nTV-G           10\nPassed          9\nNC-17           7\nGP              6\nM               5\nTV-Y            1\nTV-Y7           1\nName: content_rating, dtype: int64"
     },
     "execution_count": 20,
     "metadata": {},
     "output_type": "execute_result"
    }
   ],
   "source": [
    "df.content_rating.value_counts()"
   ]
  },
  {
   "cell_type": "markdown",
   "metadata": {
    "pycharm": {
     "name": "#%% md\n"
    }
   },
   "source": [
    "**Une petite recherche et on trouve que historiquement, on a plus ou moins** :\n",
    "\n",
    "Passed = Approved = M = GP = PG\n",
    "TV-14 = PG-13\n",
    "X = NC-17\n",
    "Not Rated = Unrated = NR\n",
    "On veut donc remplacer :\n",
    "\n",
    "Passed, Approved, M et GP par PG\n",
    "TV-14 par PG-13\n",
    "X par NC-17\n",
    "Not Rated et Unrated par UR qui sont les notations utilisées aujourd'hui."
   ]
  },
  {
   "cell_type": "code",
   "execution_count": 21,
   "metadata": {},
   "outputs": [
    {
     "data": {
      "text/plain": "R        2098\nPG-13    1474\nPG        773\nUR        176\nG         112\nNC-17      20\nTV-MA      19\nTV-PG      13\nTV-G       10\nTV-Y        1\nTV-Y7       1\nName: content_rating, dtype: int64"
     },
     "execution_count": 21,
     "metadata": {},
     "output_type": "execute_result"
    }
   ],
   "source": [
    "def update_content_rating(row):\n",
    "    if row['content_rating'] in ['Passed', 'Approved','M','GP']:\n",
    "        return 'PG'   \n",
    "    elif row['content_rating'] in ['Not Rated', 'Unrated']:\n",
    "        return 'UR' \n",
    "    elif row['content_rating'] == 'X':\n",
    "        return 'NC-17'\n",
    "    elif row['content_rating'] == 'TV-14':\n",
    "        return 'PG-13'\n",
    "    else:\n",
    "        return row['content_rating']\n",
    "    \n",
    "df['content_rating'] = df.apply(update_content_rating, axis=1)\n",
    "df.content_rating.value_counts()"
   ]
  },
  {
   "cell_type": "markdown",
   "metadata": {},
   "source": [
    "**Spliter + Dichotomiser la variable genres**"
   ]
  },
  {
   "cell_type": "code",
   "execution_count": 22,
   "metadata": {},
   "outputs": [],
   "source": [
    "genre_dummies = df.genres.str.get_dummies('|')\n",
    "df = pd.concat([df, genre_dummies], axis =1)\n",
    "df.drop(['genres'], axis=1, inplace=True)"
   ]
  },
  {
   "cell_type": "code",
   "execution_count": 23,
   "metadata": {},
   "outputs": [
    {
     "data": {
      "text/plain": "English       4662\nFrench          73\nSpanish         40\nHindi           28\nMandarin        24\nGerman          19\nJapanese        17\nCantonese       11\nRussian         11\nItalian         11\nPortuguese       8\nKorean           8\nArabic           5\nDanish           5\nHebrew           5\nSwedish          5\nPolish           4\nNorwegian        4\nPersian          4\nDutch            4\nThai             3\nChinese          3\nIcelandic        2\nNone             2\nIndonesian       2\nAboriginal       2\nRomanian         2\nDari             2\nZulu             2\nPanjabi          1\nUrdu             1\nVietnamese       1\nSlovenian        1\nGreek            1\nDzongkha         1\nTamil            1\nTelugu           1\nKannada          1\nCzech            1\nHungarian        1\nBosnian          1\nFilipino         1\nMongolian        1\nMaya             1\nAramaic          1\nKazakh           1\nSwahili          1\nName: language, dtype: int64"
     },
     "execution_count": 23,
     "metadata": {},
     "output_type": "execute_result"
    }
   ],
   "source": [
    "df.language.value_counts()"
   ]
  },
  {
   "cell_type": "markdown",
   "metadata": {},
   "source": [
    "**Regrouper les films par categorie de langues en ayant European, English et les autres**"
   ]
  },
  {
   "cell_type": "code",
   "execution_count": 24,
   "metadata": {},
   "outputs": [
    {
     "data": {
      "text/plain": "English            4662\nEuropean            174\nOther languages     162\nName: language, dtype: int64"
     },
     "execution_count": 24,
     "metadata": {},
     "output_type": "execute_result"
    }
   ],
   "source": [
    "def replace_language(row):\n",
    "    if row['language'] in ['French', 'Spanish', 'German', 'Italian', 'Portuguese', 'Norwegian', 'Dutch',\n",
    "    'Danish', 'Romanian', 'Bosnian', 'Czech', 'Hungarian', 'Swedish']:\n",
    "        return 'European'\n",
    "    elif row['language'] == 'English':\n",
    "        return 'English'\n",
    "    else:\n",
    "        return 'Other languages'\n",
    "df['language'] = df.apply(replace_language, axis=1)\n",
    "df.language.value_counts()                       "
   ]
  },
  {
   "cell_type": "markdown",
   "metadata": {},
   "source": [
    "**Regrouper les pays des films par zones géographiques notamment Europe, North America, Other Countries**"
   ]
  },
  {
   "cell_type": "code",
   "execution_count": 25,
   "metadata": {},
   "outputs": [
    {
     "data": {
      "text/plain": "USA              3773\nUK                443\nFrance            154\nCanada            124\nGermany            96\n                 ... \nSlovakia            1\nChile               1\nCambodia            1\nOfficial site       1\nPhilippines         1\nName: country, Length: 65, dtype: int64"
     },
     "execution_count": 25,
     "metadata": {},
     "output_type": "execute_result"
    }
   ],
   "source": [
    "df.country.value_counts()"
   ]
  },
  {
   "cell_type": "code",
   "execution_count": 26,
   "metadata": {},
   "outputs": [
    {
     "data": {
      "text/plain": "North America      3897\nEurope              819\nOther countries     282\nName: country, dtype: int64"
     },
     "execution_count": 26,
     "metadata": {},
     "output_type": "execute_result"
    }
   ],
   "source": [
    "def replace_country(row):\n",
    "    if row['country'] in ['UK', 'France', 'Spain', 'Germany', 'West Germany', 'Italy', 'Portugal', 'Norway', 'Netherlands',\n",
    "        'Denmark', 'Ireland', 'Romania', 'Iceland', 'Czech', 'Hungary', 'Sweden', 'Belgium', 'Greece',\n",
    "        'Bulgaria', 'Switzerland', 'Poland', 'Finland']:\n",
    "        return 'Europe'\n",
    "    elif row['country'] in ['USA', 'Canada']:\n",
    "        return 'North America'\n",
    "    else:\n",
    "        return 'Other countries'\n",
    "    \n",
    "df['country'] = df.apply(replace_country, axis=1)\n",
    "df.country.value_counts()"
   ]
  },
  {
   "cell_type": "markdown",
   "metadata": {
    "colab_type": "text",
    "id": "nNnaPdClkRvC"
   },
   "source": [
    "## **4. Analyse exploratoire**"
   ]
  },
  {
   "cell_type": "markdown",
   "metadata": {},
   "source": [
    "<a id='exploration'></a>"
   ]
  },
  {
   "cell_type": "markdown",
   "metadata": {},
   "source": [
    "Dans cette partie, vous devez \"explorer\" vos données. Cette tâche, qui peut s'avérer très vaste, consiste à s'intéresser à l'information contenue dans nos données \"au premier abord\".\n",
    "\n",
    "Sont donc attendus dans cette partie :\n",
    ">- quelques statistiques descriptives\n",
    ">- entre 6 et 10 visualisations (vous pouvez bien sûr en regrouper plusieurs sur une même figure)\n",
    ">- et pour chaque résultat/graphique présenté, une explication succinte"
   ]
  },
  {
   "cell_type": "markdown",
   "metadata": {
    "collapsed": false
   },
   "source": [
    "**Une analyse descriptive qui nous donne des statistiques descriptives sur les différentes variables de la Dataframe notamment le min, max, moyenne, etc.**"
   ]
  },
  {
   "cell_type": "code",
   "execution_count": 27,
   "metadata": {},
   "outputs": [
    {
     "data": {
      "text/plain": "       num_critic_for_reviews     duration  actor_3_fb_likes  \\\ncount             4949.000000  4983.000000       4975.000000   \nmean               139.890079   107.213325        639.900905   \nstd                121.477586    25.248775       1643.298282   \nmin                  1.000000     7.000000          0.000000   \n25%                 50.000000    93.000000        133.000000   \n50%                110.000000   103.000000        369.000000   \n75%                195.000000   118.000000        635.000000   \nmax                813.000000   511.000000      23000.000000   \n\n       actor_1_fb_likes         gross  num_voted_users  cast_total_fb_likes  \\\ncount       4991.000000  4.327000e+03     4.998000e+03          4998.000000   \nmean        6556.939892  4.659299e+07     8.347020e+04          9676.941176   \nstd        15061.586700  6.690463e+07     1.380866e+05         18165.404578   \nmin            0.000000  1.620000e+02     5.000000e+00             0.000000   \n25%          611.500000  4.548672e+06     8.560000e+03          1405.500000   \n50%          984.000000  2.368988e+07     3.426050e+04          3085.500000   \n75%        11000.000000  5.960257e+07     9.612075e+04         13740.500000   \nmax       640000.000000  7.605058e+08     1.689764e+06        656730.000000   \n\n       facenumber_in_poster  num_user_for_reviews        budget   title_year  \\\ncount           4985.000000           4977.000000  4.597000e+03  4891.000000   \nmean               1.368907            272.014667  3.938145e+07  2002.468820   \nstd                2.014623            377.776210  2.050767e+08    12.475235   \nmin                0.000000              1.000000  2.180000e+02  1916.000000   \n25%                0.000000             64.000000  6.000000e+06  1999.000000   \n50%                1.000000            156.000000  2.000000e+07  2005.000000   \n75%                2.000000            324.000000  4.400000e+07  2011.000000   \nmax               43.000000           5060.000000  1.221550e+10  2016.000000   \n\n       actor_2_fb_likes   imdb_score  aspect_ratio       Action  ...  \\\ncount       4985.000000  4998.000000   4671.000000  4998.000000  ...   \nmean        1642.998796     6.441056      2.221417     0.228691  ...   \nstd         4030.925303     1.124107      1.391185     0.420032  ...   \nmin            0.000000     1.600000      1.180000     0.000000  ...   \n25%          280.000000     5.800000      1.850000     0.000000  ...   \n50%          595.000000     6.600000      2.350000     0.000000  ...   \n75%          917.000000     7.200000      2.350000     0.000000  ...   \nmax       137000.000000     9.500000     16.000000     1.000000  ...   \n\n         Game-Show      History       Horror        Music      Musical  \\\ncount  4998.000000  4998.000000  4998.000000  4998.000000  4998.000000   \nmean      0.000200     0.041016     0.111244     0.042417     0.026411   \nstd       0.014145     0.198348     0.314466     0.201559     0.160369   \nmin       0.000000     0.000000     0.000000     0.000000     0.000000   \n25%       0.000000     0.000000     0.000000     0.000000     0.000000   \n50%       0.000000     0.000000     0.000000     0.000000     0.000000   \n75%       0.000000     0.000000     0.000000     0.000000     0.000000   \nmax       1.000000     1.000000     1.000000     1.000000     1.000000   \n\n           Mystery         News   Reality-TV      Romance       Sci-Fi  \\\ncount  4998.000000  4998.000000  4998.000000  4998.000000  4998.000000   \nmean      0.098639     0.000600     0.000400     0.219688     0.122249   \nstd       0.298207     0.024495     0.020002     0.414077     0.327606   \nmin       0.000000     0.000000     0.000000     0.000000     0.000000   \n25%       0.000000     0.000000     0.000000     0.000000     0.000000   \n50%       0.000000     0.000000     0.000000     0.000000     0.000000   \n75%       0.000000     0.000000     0.000000     0.000000     0.000000   \nmax       1.000000     1.000000     1.000000     1.000000     1.000000   \n\n             Short        Sport     Thriller          War      Western  \ncount  4998.000000  4998.000000  4998.000000  4998.000000  4998.000000  \nmean      0.001000     0.036214     0.279312     0.042217     0.018808  \nstd       0.031616     0.186842     0.448706     0.201104     0.135858  \nmin       0.000000     0.000000     0.000000     0.000000     0.000000  \n25%       0.000000     0.000000     0.000000     0.000000     0.000000  \n50%       0.000000     0.000000     0.000000     0.000000     0.000000  \n75%       0.000000     0.000000     1.000000     0.000000     0.000000  \nmax       1.000000     1.000000     1.000000     1.000000     1.000000  \n\n[8 rows x 40 columns]",
      "text/html": "<div>\n<style scoped>\n    .dataframe tbody tr th:only-of-type {\n        vertical-align: middle;\n    }\n\n    .dataframe tbody tr th {\n        vertical-align: top;\n    }\n\n    .dataframe thead th {\n        text-align: right;\n    }\n</style>\n<table border=\"1\" class=\"dataframe\">\n  <thead>\n    <tr style=\"text-align: right;\">\n      <th></th>\n      <th>num_critic_for_reviews</th>\n      <th>duration</th>\n      <th>actor_3_fb_likes</th>\n      <th>actor_1_fb_likes</th>\n      <th>gross</th>\n      <th>num_voted_users</th>\n      <th>cast_total_fb_likes</th>\n      <th>facenumber_in_poster</th>\n      <th>num_user_for_reviews</th>\n      <th>budget</th>\n      <th>title_year</th>\n      <th>actor_2_fb_likes</th>\n      <th>imdb_score</th>\n      <th>aspect_ratio</th>\n      <th>Action</th>\n      <th>...</th>\n      <th>Game-Show</th>\n      <th>History</th>\n      <th>Horror</th>\n      <th>Music</th>\n      <th>Musical</th>\n      <th>Mystery</th>\n      <th>News</th>\n      <th>Reality-TV</th>\n      <th>Romance</th>\n      <th>Sci-Fi</th>\n      <th>Short</th>\n      <th>Sport</th>\n      <th>Thriller</th>\n      <th>War</th>\n      <th>Western</th>\n    </tr>\n  </thead>\n  <tbody>\n    <tr>\n      <th>count</th>\n      <td>4949.000000</td>\n      <td>4983.000000</td>\n      <td>4975.000000</td>\n      <td>4991.000000</td>\n      <td>4.327000e+03</td>\n      <td>4.998000e+03</td>\n      <td>4998.000000</td>\n      <td>4985.000000</td>\n      <td>4977.000000</td>\n      <td>4.597000e+03</td>\n      <td>4891.000000</td>\n      <td>4985.000000</td>\n      <td>4998.000000</td>\n      <td>4671.000000</td>\n      <td>4998.000000</td>\n      <td>...</td>\n      <td>4998.000000</td>\n      <td>4998.000000</td>\n      <td>4998.000000</td>\n      <td>4998.000000</td>\n      <td>4998.000000</td>\n      <td>4998.000000</td>\n      <td>4998.000000</td>\n      <td>4998.000000</td>\n      <td>4998.000000</td>\n      <td>4998.000000</td>\n      <td>4998.000000</td>\n      <td>4998.000000</td>\n      <td>4998.000000</td>\n      <td>4998.000000</td>\n      <td>4998.000000</td>\n    </tr>\n    <tr>\n      <th>mean</th>\n      <td>139.890079</td>\n      <td>107.213325</td>\n      <td>639.900905</td>\n      <td>6556.939892</td>\n      <td>4.659299e+07</td>\n      <td>8.347020e+04</td>\n      <td>9676.941176</td>\n      <td>1.368907</td>\n      <td>272.014667</td>\n      <td>3.938145e+07</td>\n      <td>2002.468820</td>\n      <td>1642.998796</td>\n      <td>6.441056</td>\n      <td>2.221417</td>\n      <td>0.228691</td>\n      <td>...</td>\n      <td>0.000200</td>\n      <td>0.041016</td>\n      <td>0.111244</td>\n      <td>0.042417</td>\n      <td>0.026411</td>\n      <td>0.098639</td>\n      <td>0.000600</td>\n      <td>0.000400</td>\n      <td>0.219688</td>\n      <td>0.122249</td>\n      <td>0.001000</td>\n      <td>0.036214</td>\n      <td>0.279312</td>\n      <td>0.042217</td>\n      <td>0.018808</td>\n    </tr>\n    <tr>\n      <th>std</th>\n      <td>121.477586</td>\n      <td>25.248775</td>\n      <td>1643.298282</td>\n      <td>15061.586700</td>\n      <td>6.690463e+07</td>\n      <td>1.380866e+05</td>\n      <td>18165.404578</td>\n      <td>2.014623</td>\n      <td>377.776210</td>\n      <td>2.050767e+08</td>\n      <td>12.475235</td>\n      <td>4030.925303</td>\n      <td>1.124107</td>\n      <td>1.391185</td>\n      <td>0.420032</td>\n      <td>...</td>\n      <td>0.014145</td>\n      <td>0.198348</td>\n      <td>0.314466</td>\n      <td>0.201559</td>\n      <td>0.160369</td>\n      <td>0.298207</td>\n      <td>0.024495</td>\n      <td>0.020002</td>\n      <td>0.414077</td>\n      <td>0.327606</td>\n      <td>0.031616</td>\n      <td>0.186842</td>\n      <td>0.448706</td>\n      <td>0.201104</td>\n      <td>0.135858</td>\n    </tr>\n    <tr>\n      <th>min</th>\n      <td>1.000000</td>\n      <td>7.000000</td>\n      <td>0.000000</td>\n      <td>0.000000</td>\n      <td>1.620000e+02</td>\n      <td>5.000000e+00</td>\n      <td>0.000000</td>\n      <td>0.000000</td>\n      <td>1.000000</td>\n      <td>2.180000e+02</td>\n      <td>1916.000000</td>\n      <td>0.000000</td>\n      <td>1.600000</td>\n      <td>1.180000</td>\n      <td>0.000000</td>\n      <td>...</td>\n      <td>0.000000</td>\n      <td>0.000000</td>\n      <td>0.000000</td>\n      <td>0.000000</td>\n      <td>0.000000</td>\n      <td>0.000000</td>\n      <td>0.000000</td>\n      <td>0.000000</td>\n      <td>0.000000</td>\n      <td>0.000000</td>\n      <td>0.000000</td>\n      <td>0.000000</td>\n      <td>0.000000</td>\n      <td>0.000000</td>\n      <td>0.000000</td>\n    </tr>\n    <tr>\n      <th>25%</th>\n      <td>50.000000</td>\n      <td>93.000000</td>\n      <td>133.000000</td>\n      <td>611.500000</td>\n      <td>4.548672e+06</td>\n      <td>8.560000e+03</td>\n      <td>1405.500000</td>\n      <td>0.000000</td>\n      <td>64.000000</td>\n      <td>6.000000e+06</td>\n      <td>1999.000000</td>\n      <td>280.000000</td>\n      <td>5.800000</td>\n      <td>1.850000</td>\n      <td>0.000000</td>\n      <td>...</td>\n      <td>0.000000</td>\n      <td>0.000000</td>\n      <td>0.000000</td>\n      <td>0.000000</td>\n      <td>0.000000</td>\n      <td>0.000000</td>\n      <td>0.000000</td>\n      <td>0.000000</td>\n      <td>0.000000</td>\n      <td>0.000000</td>\n      <td>0.000000</td>\n      <td>0.000000</td>\n      <td>0.000000</td>\n      <td>0.000000</td>\n      <td>0.000000</td>\n    </tr>\n    <tr>\n      <th>50%</th>\n      <td>110.000000</td>\n      <td>103.000000</td>\n      <td>369.000000</td>\n      <td>984.000000</td>\n      <td>2.368988e+07</td>\n      <td>3.426050e+04</td>\n      <td>3085.500000</td>\n      <td>1.000000</td>\n      <td>156.000000</td>\n      <td>2.000000e+07</td>\n      <td>2005.000000</td>\n      <td>595.000000</td>\n      <td>6.600000</td>\n      <td>2.350000</td>\n      <td>0.000000</td>\n      <td>...</td>\n      <td>0.000000</td>\n      <td>0.000000</td>\n      <td>0.000000</td>\n      <td>0.000000</td>\n      <td>0.000000</td>\n      <td>0.000000</td>\n      <td>0.000000</td>\n      <td>0.000000</td>\n      <td>0.000000</td>\n      <td>0.000000</td>\n      <td>0.000000</td>\n      <td>0.000000</td>\n      <td>0.000000</td>\n      <td>0.000000</td>\n      <td>0.000000</td>\n    </tr>\n    <tr>\n      <th>75%</th>\n      <td>195.000000</td>\n      <td>118.000000</td>\n      <td>635.000000</td>\n      <td>11000.000000</td>\n      <td>5.960257e+07</td>\n      <td>9.612075e+04</td>\n      <td>13740.500000</td>\n      <td>2.000000</td>\n      <td>324.000000</td>\n      <td>4.400000e+07</td>\n      <td>2011.000000</td>\n      <td>917.000000</td>\n      <td>7.200000</td>\n      <td>2.350000</td>\n      <td>0.000000</td>\n      <td>...</td>\n      <td>0.000000</td>\n      <td>0.000000</td>\n      <td>0.000000</td>\n      <td>0.000000</td>\n      <td>0.000000</td>\n      <td>0.000000</td>\n      <td>0.000000</td>\n      <td>0.000000</td>\n      <td>0.000000</td>\n      <td>0.000000</td>\n      <td>0.000000</td>\n      <td>0.000000</td>\n      <td>1.000000</td>\n      <td>0.000000</td>\n      <td>0.000000</td>\n    </tr>\n    <tr>\n      <th>max</th>\n      <td>813.000000</td>\n      <td>511.000000</td>\n      <td>23000.000000</td>\n      <td>640000.000000</td>\n      <td>7.605058e+08</td>\n      <td>1.689764e+06</td>\n      <td>656730.000000</td>\n      <td>43.000000</td>\n      <td>5060.000000</td>\n      <td>1.221550e+10</td>\n      <td>2016.000000</td>\n      <td>137000.000000</td>\n      <td>9.500000</td>\n      <td>16.000000</td>\n      <td>1.000000</td>\n      <td>...</td>\n      <td>1.000000</td>\n      <td>1.000000</td>\n      <td>1.000000</td>\n      <td>1.000000</td>\n      <td>1.000000</td>\n      <td>1.000000</td>\n      <td>1.000000</td>\n      <td>1.000000</td>\n      <td>1.000000</td>\n      <td>1.000000</td>\n      <td>1.000000</td>\n      <td>1.000000</td>\n      <td>1.000000</td>\n      <td>1.000000</td>\n      <td>1.000000</td>\n    </tr>\n  </tbody>\n</table>\n<p>8 rows × 40 columns</p>\n</div>"
     },
     "execution_count": 27,
     "metadata": {},
     "output_type": "execute_result"
    }
   ],
   "source": [
    "df.describe()"
   ]
  },
  {
   "cell_type": "markdown",
   "metadata": {},
   "source": [
    "**Une visualtion de l'année et du score des films.=>> montre une forte fréquence des films récents et des scores autour de 7**"
   ]
  },
  {
   "cell_type": "code",
   "execution_count": 28,
   "metadata": {},
   "outputs": [
    {
     "data": {
      "text/plain": "<Figure size 1512x504 with 2 Axes>",
      "image/png": "[encoded data removed]"
     },
     "metadata": {
      "needs_background": "light"
     },
     "output_type": "display_data"
    }
   ],
   "source": [
    "# Films par année de sortie\n",
    "fig,ax = plt.subplots(1,2, figsize=(21,7))\n",
    "df.hist('title_year', bins=40, ax= ax[0])\n",
    "df.hist('imdb_score', bins=40, ax= ax[1])\n",
    "plt.show()\n",
    "\n"
   ]
  },
  {
   "cell_type": "markdown",
   "metadata": {
    "collapsed": false
   },
   "source": [
    "**Moyenne des score de films selon le genre**"
   ]
  },
  {
   "cell_type": "code",
   "execution_count": 29,
   "metadata": {},
   "outputs": [
    {
     "data": {
      "text/plain": "<Figure size 1152x576 with 1 Axes>",
      "image/png": "[encoded data removed]"
     },
     "metadata": {
      "needs_background": "light"
     },
     "output_type": "display_data"
    }
   ],
   "source": [
    "mean_genre = {}\n",
    "plt.figure(figsize=(16,8))\n",
    "for gen in df.columns[-26:]:\n",
    "    mean_genre[gen] = df.loc[df[gen]==1,'imdb_score'].mean()\n",
    "    plt.bar(mean_genre.keys(), mean_genre.values())\n",
    "    plt.xticks(rotation=55);\n"
   ]
  },
  {
   "cell_type": "markdown",
   "metadata": {},
   "source": [
    "**Marge bénéficiaire sur les films avec les top 25 films les plus rentables**"
   ]
  },
  {
   "cell_type": "code",
   "execution_count": 34,
   "metadata": {
    "collapsed": false,
    "pycharm": {
     "name": "#%%\n"
    }
   },
   "outputs": [
    {
     "data": {
      "text/plain": "                                       movie_title  title_year        gross  \\\n0                                           Avatar      2009.0  760505847.0   \n1                                   Jurassic World      2015.0  652177271.0   \n2                                          Titanic      1997.0  658672302.0   \n3               Star Wars: Episode IV - A New Hope      1977.0  460935665.0   \n4                       E.T. the Extra-Terrestrial      1982.0  434949459.0   \n5                                     The Avengers      2012.0  623279547.0   \n6                                    The Lion King      1994.0  422783777.0   \n7        Star Wars: Episode I - The Phantom Menace      1999.0  474544677.0   \n8                                  The Dark Knight      2008.0  533316061.0   \n9                                 The Hunger Games      2012.0  407999255.0   \n10                                        Deadpool      2016.0  363024263.0   \n11                 The Hunger Games: Catching Fire      2013.0  424645577.0   \n12                                   Jurassic Park      1993.0  356784000.0   \n13                                 Despicable Me 2      2013.0  368049635.0   \n14                                 American Sniper      2014.0  350123553.0   \n15                                    Finding Nemo      2003.0  380838870.0   \n16                                         Shrek 2      2004.0  436471036.0   \n17   The Lord of the Rings: The Return of the King      2003.0  377019252.0   \n18      Star Wars: Episode VI - Return of the Jedi      1983.0  309125409.0   \n19                                    Forrest Gump      1994.0  329691196.0   \n20  Star Wars: Episode V - The Empire Strikes Back      1980.0  290158751.0   \n21                                      Home Alone      1990.0  285761243.0   \n22    Star Wars: Episode III - Revenge of the Sith      2005.0  380262555.0   \n23                                      Spider-Man      2002.0  403706375.0   \n24                                         Minions      2015.0  336029560.0   \n\n         budget        marge  \n0   237000000.0  523505847.0  \n1   150000000.0  502177271.0  \n2   200000000.0  458672302.0  \n3    11000000.0  449935665.0  \n4    10500000.0  424449459.0  \n5   220000000.0  403279547.0  \n6    45000000.0  377783777.0  \n7   115000000.0  359544677.0  \n8   185000000.0  348316061.0  \n9    78000000.0  329999255.0  \n10   58000000.0  305024263.0  \n11  130000000.0  294645577.0  \n12   63000000.0  293784000.0  \n13   76000000.0  292049635.0  \n14   58800000.0  291323553.0  \n15   94000000.0  286838870.0  \n16  150000000.0  286471036.0  \n17   94000000.0  283019252.0  \n18   32500000.0  276625409.0  \n19   55000000.0  274691196.0  \n20   18000000.0  272158751.0  \n21   18000000.0  267761243.0  \n22  113000000.0  267262555.0  \n23  139000000.0  264706375.0  \n24   74000000.0  262029560.0  ",
      "text/html": "<div>\n<style scoped>\n    .dataframe tbody tr th:only-of-type {\n        vertical-align: middle;\n    }\n\n    .dataframe tbody tr th {\n        vertical-align: top;\n    }\n\n    .dataframe thead th {\n        text-align: right;\n    }\n</style>\n<table border=\"1\" class=\"dataframe\">\n  <thead>\n    <tr style=\"text-align: right;\">\n      <th></th>\n      <th>movie_title</th>\n      <th>title_year</th>\n      <th>gross</th>\n      <th>budget</th>\n      <th>marge</th>\n    </tr>\n  </thead>\n  <tbody>\n    <tr>\n      <th>0</th>\n      <td>Avatar</td>\n      <td>2009.0</td>\n      <td>760505847.0</td>\n      <td>237000000.0</td>\n      <td>523505847.0</td>\n    </tr>\n    <tr>\n      <th>1</th>\n      <td>Jurassic World</td>\n      <td>2015.0</td>\n      <td>652177271.0</td>\n      <td>150000000.0</td>\n      <td>502177271.0</td>\n    </tr>\n    <tr>\n      <th>2</th>\n      <td>Titanic</td>\n      <td>1997.0</td>\n      <td>658672302.0</td>\n      <td>200000000.0</td>\n      <td>458672302.0</td>\n    </tr>\n    <tr>\n      <th>3</th>\n      <td>Star Wars: Episode IV - A New Hope</td>\n      <td>1977.0</td>\n      <td>460935665.0</td>\n      <td>11000000.0</td>\n      <td>449935665.0</td>\n    </tr>\n    <tr>\n      <th>4</th>\n      <td>E.T. the Extra-Terrestrial</td>\n      <td>1982.0</td>\n      <td>434949459.0</td>\n      <td>10500000.0</td>\n      <td>424449459.0</td>\n    </tr>\n    <tr>\n      <th>5</th>\n      <td>The Avengers</td>\n      <td>2012.0</td>\n      <td>623279547.0</td>\n      <td>220000000.0</td>\n      <td>403279547.0</td>\n    </tr>\n    <tr>\n      <th>6</th>\n      <td>The Lion King</td>\n      <td>1994.0</td>\n      <td>422783777.0</td>\n      <td>45000000.0</td>\n      <td>377783777.0</td>\n    </tr>\n    <tr>\n      <th>7</th>\n      <td>Star Wars: Episode I - The Phantom Menace</td>\n      <td>1999.0</td>\n      <td>474544677.0</td>\n      <td>115000000.0</td>\n      <td>359544677.0</td>\n    </tr>\n    <tr>\n      <th>8</th>\n      <td>The Dark Knight</td>\n      <td>2008.0</td>\n      <td>533316061.0</td>\n      <td>185000000.0</td>\n      <td>348316061.0</td>\n    </tr>\n    <tr>\n      <th>9</th>\n      <td>The Hunger Games</td>\n      <td>2012.0</td>\n      <td>407999255.0</td>\n      <td>78000000.0</td>\n      <td>329999255.0</td>\n    </tr>\n    <tr>\n      <th>10</th>\n      <td>Deadpool</td>\n      <td>2016.0</td>\n      <td>363024263.0</td>\n      <td>58000000.0</td>\n      <td>305024263.0</td>\n    </tr>\n    <tr>\n      <th>11</th>\n      <td>The Hunger Games: Catching Fire</td>\n      <td>2013.0</td>\n      <td>424645577.0</td>\n      <td>130000000.0</td>\n      <td>294645577.0</td>\n    </tr>\n    <tr>\n      <th>12</th>\n      <td>Jurassic Park</td>\n      <td>1993.0</td>\n      <td>356784000.0</td>\n      <td>63000000.0</td>\n      <td>293784000.0</td>\n    </tr>\n    <tr>\n      <th>13</th>\n      <td>Despicable Me 2</td>\n      <td>2013.0</td>\n      <td>368049635.0</td>\n      <td>76000000.0</td>\n      <td>292049635.0</td>\n    </tr>\n    <tr>\n      <th>14</th>\n      <td>American Sniper</td>\n      <td>2014.0</td>\n      <td>350123553.0</td>\n      <td>58800000.0</td>\n      <td>291323553.0</td>\n    </tr>\n    <tr>\n      <th>15</th>\n      <td>Finding Nemo</td>\n      <td>2003.0</td>\n      <td>380838870.0</td>\n      <td>94000000.0</td>\n      <td>286838870.0</td>\n    </tr>\n    <tr>\n      <th>16</th>\n      <td>Shrek 2</td>\n      <td>2004.0</td>\n      <td>436471036.0</td>\n      <td>150000000.0</td>\n      <td>286471036.0</td>\n    </tr>\n    <tr>\n      <th>17</th>\n      <td>The Lord of the Rings: The Return of the King</td>\n      <td>2003.0</td>\n      <td>377019252.0</td>\n      <td>94000000.0</td>\n      <td>283019252.0</td>\n    </tr>\n    <tr>\n      <th>18</th>\n      <td>Star Wars: Episode VI - Return of the Jedi</td>\n      <td>1983.0</td>\n      <td>309125409.0</td>\n      <td>32500000.0</td>\n      <td>276625409.0</td>\n    </tr>\n    <tr>\n      <th>19</th>\n      <td>Forrest Gump</td>\n      <td>1994.0</td>\n      <td>329691196.0</td>\n      <td>55000000.0</td>\n      <td>274691196.0</td>\n    </tr>\n    <tr>\n      <th>20</th>\n      <td>Star Wars: Episode V - The Empire Strikes Back</td>\n      <td>1980.0</td>\n      <td>290158751.0</td>\n      <td>18000000.0</td>\n      <td>272158751.0</td>\n    </tr>\n    <tr>\n      <th>21</th>\n      <td>Home Alone</td>\n      <td>1990.0</td>\n      <td>285761243.0</td>\n      <td>18000000.0</td>\n      <td>267761243.0</td>\n    </tr>\n    <tr>\n      <th>22</th>\n      <td>Star Wars: Episode III - Revenge of the Sith</td>\n      <td>2005.0</td>\n      <td>380262555.0</td>\n      <td>113000000.0</td>\n      <td>267262555.0</td>\n    </tr>\n    <tr>\n      <th>23</th>\n      <td>Spider-Man</td>\n      <td>2002.0</td>\n      <td>403706375.0</td>\n      <td>139000000.0</td>\n      <td>264706375.0</td>\n    </tr>\n    <tr>\n      <th>24</th>\n      <td>Minions</td>\n      <td>2015.0</td>\n      <td>336029560.0</td>\n      <td>74000000.0</td>\n      <td>262029560.0</td>\n    </tr>\n  </tbody>\n</table>\n</div>"
     },
     "execution_count": 34,
     "metadata": {},
     "output_type": "execute_result"
    }
   ],
   "source": [
    "df['marge'] = df.gross - df.budget\n",
    "marge_beneficiaire = df[['movie_title', 'title_year','gross', 'budget','marge']].sort_values('marge',ascending=False).iloc[:25].reset_index(drop=True)\n",
    "marge_beneficiaire"
   ]
  },
  {
   "cell_type": "markdown",
   "metadata": {
    "colab_type": "text",
    "id": "nNnaPdClkRvC"
   },
   "source": [
    "## **5. Pré-traitement**"
   ]
  },
  {
   "cell_type": "markdown",
   "metadata": {},
   "source": [
    "**À FAIRE**\n",
    "\n",
    ">Maintenant que vous commencez à bien connaître votre base de données, on va la préparer pour la partie modélisation.\n",
    ">\n",
    ">Sont donc attendus dans cette partie :\n",
    ">- restriction aux données utiles à la prédiction : potentiellement certaines variables conservées pour la visualisation sont à supprimer pour la modélisation\n",
    ">- création des échantillons d'entraînement et de test\n",
    ">- gestion des variables catégoriques d'un côté et numériques de l'autre\n",
    ">\n",
    ">La standardisation n'étant pas toujours nécessaire puisque ça dépend des modèles, vous pouvez choisir de la faire dès maintenant ou bien d'attendre de voir si vous en avez besoin..."
   ]
  },
  {
   "cell_type": "code",
   "execution_count": 35,
   "metadata": {
    "collapsed": false,
    "pycharm": {
     "name": "#%%\n"
    }
   },
   "outputs": [
    {
     "data": {
      "text/plain": "Index(['color', 'director_name', 'num_critic_for_reviews', 'duration',\n       'actor_3_fb_likes', 'actor_2_name', 'actor_1_fb_likes', 'gross',\n       'actor_1_name', 'movie_title', 'num_voted_users', 'cast_total_fb_likes',\n       'actor_3_name', 'facenumber_in_poster', 'num_user_for_reviews',\n       'language', 'country', 'content_rating', 'budget', 'title_year',\n       'actor_2_fb_likes', 'imdb_score', 'aspect_ratio', 'Action', 'Adventure',\n       'Animation', 'Biography', 'Comedy', 'Crime', 'Documentary', 'Drama',\n       'Family', 'Fantasy', 'Film-Noir', 'Game-Show', 'History', 'Horror',\n       'Music', 'Musical', 'Mystery', 'News', 'Reality-TV', 'Romance',\n       'Sci-Fi', 'Short', 'Sport', 'Thriller', 'War', 'Western', 'marge'],\n      dtype='object')"
     },
     "execution_count": 35,
     "metadata": {},
     "output_type": "execute_result"
    }
   ],
   "source": [
    "df.columns"
   ]
  },
  {
   "cell_type": "markdown",
   "metadata": {
    "collapsed": false
   },
   "source": [
    "**Interet  de supprimer certaines variables trop disparatres ainsi que celkle du profit créee**"
   ]
  },
  {
   "cell_type": "code",
   "execution_count": 36,
   "metadata": {
    "collapsed": false,
    "pycharm": {
     "name": "#%%\n"
    }
   },
   "outputs": [
    {
     "data": {
      "text/plain": "(4998, 44)"
     },
     "execution_count": 36,
     "metadata": {},
     "output_type": "execute_result"
    }
   ],
   "source": [
    "df.drop(['director_name','actor_1_name','actor_2_name', 'actor_3_name', 'marge', 'movie_title'], axis=1, inplace=True)\n",
    "df.shape"
   ]
  },
  {
   "cell_type": "markdown",
   "metadata": {
    "collapsed": false
   },
   "source": [
    "**Gestion des variables categorielles avec get_dummies afin de les rendre numeriques**\n"
   ]
  },
  {
   "cell_type": "code",
   "execution_count": 37,
   "metadata": {
    "collapsed": false,
    "pycharm": {
     "name": "#%%\n"
    }
   },
   "outputs": [
    {
     "data": {
      "text/plain": "      color         language          country content_rating\n0     Color          English    North America          PG-13\n1     Color          English    North America          PG-13\n2     Color          English           Europe          PG-13\n3     Color          English    North America          PG-13\n4       NaN  Other languages  Other countries            NaN\n...     ...              ...              ...            ...\n5038  Color          English    North America            NaN\n5039  Color          English    North America          PG-13\n5040  Color          English    North America            NaN\n5041  Color          English    North America          PG-13\n5042  Color          English    North America             PG\n\n[4998 rows x 4 columns]",
      "text/html": "<div>\n<style scoped>\n    .dataframe tbody tr th:only-of-type {\n        vertical-align: middle;\n    }\n\n    .dataframe tbody tr th {\n        vertical-align: top;\n    }\n\n    .dataframe thead th {\n        text-align: right;\n    }\n</style>\n<table border=\"1\" class=\"dataframe\">\n  <thead>\n    <tr style=\"text-align: right;\">\n      <th></th>\n      <th>color</th>\n      <th>language</th>\n      <th>country</th>\n      <th>content_rating</th>\n    </tr>\n  </thead>\n  <tbody>\n    <tr>\n      <th>0</th>\n      <td>Color</td>\n      <td>English</td>\n      <td>North America</td>\n      <td>PG-13</td>\n    </tr>\n    <tr>\n      <th>1</th>\n      <td>Color</td>\n      <td>English</td>\n      <td>North America</td>\n      <td>PG-13</td>\n    </tr>\n    <tr>\n      <th>2</th>\n      <td>Color</td>\n      <td>English</td>\n      <td>Europe</td>\n      <td>PG-13</td>\n    </tr>\n    <tr>\n      <th>3</th>\n      <td>Color</td>\n      <td>English</td>\n      <td>North America</td>\n      <td>PG-13</td>\n    </tr>\n    <tr>\n      <th>4</th>\n      <td>NaN</td>\n      <td>Other languages</td>\n      <td>Other countries</td>\n      <td>NaN</td>\n    </tr>\n    <tr>\n      <th>...</th>\n      <td>...</td>\n      <td>...</td>\n      <td>...</td>\n      <td>...</td>\n    </tr>\n    <tr>\n      <th>5038</th>\n      <td>Color</td>\n      <td>English</td>\n      <td>North America</td>\n      <td>NaN</td>\n    </tr>\n    <tr>\n      <th>5039</th>\n      <td>Color</td>\n      <td>English</td>\n      <td>North America</td>\n      <td>PG-13</td>\n    </tr>\n    <tr>\n      <th>5040</th>\n      <td>Color</td>\n      <td>English</td>\n      <td>North America</td>\n      <td>NaN</td>\n    </tr>\n    <tr>\n      <th>5041</th>\n      <td>Color</td>\n      <td>English</td>\n      <td>North America</td>\n      <td>PG-13</td>\n    </tr>\n    <tr>\n      <th>5042</th>\n      <td>Color</td>\n      <td>English</td>\n      <td>North America</td>\n      <td>PG</td>\n    </tr>\n  </tbody>\n</table>\n<p>4998 rows × 4 columns</p>\n</div>"
     },
     "execution_count": 37,
     "metadata": {},
     "output_type": "execute_result"
    }
   ],
   "source": [
    "df.select_dtypes(include=\"object\")"
   ]
  },
  {
   "cell_type": "code",
   "execution_count": 38,
   "metadata": {},
   "outputs": [
    {
     "data": {
      "text/plain": "      num_critic_for_reviews  duration  actor_3_fb_likes  actor_1_fb_likes  \\\n0                      723.0     178.0             855.0            1000.0   \n1                      302.0     169.0            1000.0           40000.0   \n2                      602.0     148.0             161.0           11000.0   \n3                      813.0     164.0           23000.0           27000.0   \n4                        NaN       NaN               NaN             131.0   \n...                      ...       ...               ...               ...   \n5038                     1.0      87.0             318.0             637.0   \n5039                    43.0      43.0             319.0             841.0   \n5040                    13.0      76.0               0.0               0.0   \n5041                    14.0     100.0             489.0             946.0   \n5042                    43.0      90.0              16.0              86.0   \n\n            gross  num_voted_users  cast_total_fb_likes  facenumber_in_poster  \\\n0     760505847.0           886204                 4834                   0.0   \n1     309404152.0           471220                48350                   0.0   \n2     200074175.0           275868                11700                   1.0   \n3     448130642.0          1144337               106759                   0.0   \n4             NaN                8                  143                   0.0   \n...           ...              ...                  ...                   ...   \n5038          NaN              629                 2283                   2.0   \n5039          NaN            73839                 1753                   1.0   \n5040          NaN               38                    0                   0.0   \n5041      10443.0             1255                 2386                   5.0   \n5042      85222.0             4285                  163                   0.0   \n\n      num_user_for_reviews       budget  title_year  actor_2_fb_likes  \\\n0                   3054.0  237000000.0      2009.0             936.0   \n1                   1238.0  300000000.0      2007.0            5000.0   \n2                    994.0  245000000.0      2015.0             393.0   \n3                   2701.0  250000000.0      2012.0           23000.0   \n4                      NaN          NaN         NaN              12.0   \n...                    ...          ...         ...               ...   \n5038                   6.0          NaN      2013.0             470.0   \n5039                 359.0          NaN         NaN             593.0   \n5040                   3.0       1400.0      2013.0               0.0   \n5041                   9.0          NaN      2012.0             719.0   \n5042                  84.0       1100.0      2004.0              23.0   \n\n      imdb_score  aspect_ratio  Action  ...  Color  European  Other languages  \\\n0            7.9          1.78       1  ...      1         0                0   \n1            7.1          2.35       1  ...      1         0                0   \n2            6.8          2.35       1  ...      1         0                0   \n3            8.5          2.35       1  ...      1         0                0   \n4            7.1           NaN       0  ...      0         0                1   \n...          ...           ...     ...  ...    ...       ...              ...   \n5038         7.7           NaN       0  ...      1         0                0   \n5039         7.5         16.00       0  ...      1         0                0   \n5040         6.3           NaN       0  ...      1         0                0   \n5041         6.3          2.35       0  ...      1         0                0   \n5042         6.6          1.85       0  ...      1         0                0   \n\n      North America  Other countries  NC-17  PG  PG-13  R  TV-G  TV-MA  TV-PG  \\\n0                 1                0      0   0      1  0     0      0      0   \n1                 1                0      0   0      1  0     0      0      0   \n2                 0                0      0   0      1  0     0      0      0   \n3                 1                0      0   0      1  0     0      0      0   \n4                 0                1      0   0      0  0     0      0      0   \n...             ...              ...    ...  ..    ... ..   ...    ...    ...   \n5038              1                0      0   0      0  0     0      0      0   \n5039              1                0      0   0      1  0     0      0      0   \n5040              1                0      0   0      0  0     0      0      0   \n5041              1                0      0   0      1  0     0      0      0   \n5042              1                0      0   1      0  0     0      0      0   \n\n      TV-Y  TV-Y7  UR  \n0        0      0   0  \n1        0      0   0  \n2        0      0   0  \n3        0      0   0  \n4        0      0   0  \n...    ...    ...  ..  \n5038     0      0   0  \n5039     0      0   0  \n5040     0      0   0  \n5041     0      0   0  \n5042     0      0   0  \n\n[4998 rows x 55 columns]",
      "text/html": "<div>\n<style scoped>\n    .dataframe tbody tr th:only-of-type {\n        vertical-align: middle;\n    }\n\n    .dataframe tbody tr th {\n        vertical-align: top;\n    }\n\n    .dataframe thead th {\n        text-align: right;\n    }\n</style>\n<table border=\"1\" class=\"dataframe\">\n  <thead>\n    <tr style=\"text-align: right;\">\n      <th></th>\n      <th>num_critic_for_reviews</th>\n      <th>duration</th>\n      <th>actor_3_fb_likes</th>\n      <th>actor_1_fb_likes</th>\n      <th>gross</th>\n      <th>num_voted_users</th>\n      <th>cast_total_fb_likes</th>\n      <th>facenumber_in_poster</th>\n      <th>num_user_for_reviews</th>\n      <th>budget</th>\n      <th>title_year</th>\n      <th>actor_2_fb_likes</th>\n      <th>imdb_score</th>\n      <th>aspect_ratio</th>\n      <th>Action</th>\n      <th>...</th>\n      <th>Color</th>\n      <th>European</th>\n      <th>Other languages</th>\n      <th>North America</th>\n      <th>Other countries</th>\n      <th>NC-17</th>\n      <th>PG</th>\n      <th>PG-13</th>\n      <th>R</th>\n      <th>TV-G</th>\n      <th>TV-MA</th>\n      <th>TV-PG</th>\n      <th>TV-Y</th>\n      <th>TV-Y7</th>\n      <th>UR</th>\n    </tr>\n  </thead>\n  <tbody>\n    <tr>\n      <th>0</th>\n      <td>723.0</td>\n      <td>178.0</td>\n      <td>855.0</td>\n      <td>1000.0</td>\n      <td>760505847.0</td>\n      <td>886204</td>\n      <td>4834</td>\n      <td>0.0</td>\n      <td>3054.0</td>\n      <td>237000000.0</td>\n      <td>2009.0</td>\n      <td>936.0</td>\n      <td>7.9</td>\n      <td>1.78</td>\n      <td>1</td>\n      <td>...</td>\n      <td>1</td>\n      <td>0</td>\n      <td>0</td>\n      <td>1</td>\n      <td>0</td>\n      <td>0</td>\n      <td>0</td>\n      <td>1</td>\n      <td>0</td>\n      <td>0</td>\n      <td>0</td>\n      <td>0</td>\n      <td>0</td>\n      <td>0</td>\n      <td>0</td>\n    </tr>\n    <tr>\n      <th>1</th>\n      <td>302.0</td>\n      <td>169.0</td>\n      <td>1000.0</td>\n      <td>40000.0</td>\n      <td>309404152.0</td>\n      <td>471220</td>\n      <td>48350</td>\n      <td>0.0</td>\n      <td>1238.0</td>\n      <td>300000000.0</td>\n      <td>2007.0</td>\n      <td>5000.0</td>\n      <td>7.1</td>\n      <td>2.35</td>\n      <td>1</td>\n      <td>...</td>\n      <td>1</td>\n      <td>0</td>\n      <td>0</td>\n      <td>1</td>\n      <td>0</td>\n      <td>0</td>\n      <td>0</td>\n      <td>1</td>\n      <td>0</td>\n      <td>0</td>\n      <td>0</td>\n      <td>0</td>\n      <td>0</td>\n      <td>0</td>\n      <td>0</td>\n    </tr>\n    <tr>\n      <th>2</th>\n      <td>602.0</td>\n      <td>148.0</td>\n      <td>161.0</td>\n      <td>11000.0</td>\n      <td>200074175.0</td>\n      <td>275868</td>\n      <td>11700</td>\n      <td>1.0</td>\n      <td>994.0</td>\n      <td>245000000.0</td>\n      <td>2015.0</td>\n      <td>393.0</td>\n      <td>6.8</td>\n      <td>2.35</td>\n      <td>1</td>\n      <td>...</td>\n      <td>1</td>\n      <td>0</td>\n      <td>0</td>\n      <td>0</td>\n      <td>0</td>\n      <td>0</td>\n      <td>0</td>\n      <td>1</td>\n      <td>0</td>\n      <td>0</td>\n      <td>0</td>\n      <td>0</td>\n      <td>0</td>\n      <td>0</td>\n      <td>0</td>\n    </tr>\n    <tr>\n      <th>3</th>\n      <td>813.0</td>\n      <td>164.0</td>\n      <td>23000.0</td>\n      <td>27000.0</td>\n      <td>448130642.0</td>\n      <td>1144337</td>\n      <td>106759</td>\n      <td>0.0</td>\n      <td>2701.0</td>\n      <td>250000000.0</td>\n      <td>2012.0</td>\n      <td>23000.0</td>\n      <td>8.5</td>\n      <td>2.35</td>\n      <td>1</td>\n      <td>...</td>\n      <td>1</td>\n      <td>0</td>\n      <td>0</td>\n      <td>1</td>\n      <td>0</td>\n      <td>0</td>\n      <td>0</td>\n      <td>1</td>\n      <td>0</td>\n      <td>0</td>\n      <td>0</td>\n      <td>0</td>\n      <td>0</td>\n      <td>0</td>\n      <td>0</td>\n    </tr>\n    <tr>\n      <th>4</th>\n      <td>NaN</td>\n      <td>NaN</td>\n      <td>NaN</td>\n      <td>131.0</td>\n      <td>NaN</td>\n      <td>8</td>\n      <td>143</td>\n      <td>0.0</td>\n      <td>NaN</td>\n      <td>NaN</td>\n      <td>NaN</td>\n      <td>12.0</td>\n      <td>7.1</td>\n      <td>NaN</td>\n      <td>0</td>\n      <td>...</td>\n      <td>0</td>\n      <td>0</td>\n      <td>1</td>\n      <td>0</td>\n      <td>1</td>\n      <td>0</td>\n      <td>0</td>\n      <td>0</td>\n      <td>0</td>\n      <td>0</td>\n      <td>0</td>\n      <td>0</td>\n      <td>0</td>\n      <td>0</td>\n      <td>0</td>\n    </tr>\n    <tr>\n      <th>...</th>\n      <td>...</td>\n      <td>...</td>\n      <td>...</td>\n      <td>...</td>\n      <td>...</td>\n      <td>...</td>\n      <td>...</td>\n      <td>...</td>\n      <td>...</td>\n      <td>...</td>\n      <td>...</td>\n      <td>...</td>\n      <td>...</td>\n      <td>...</td>\n      <td>...</td>\n      <td>...</td>\n      <td>...</td>\n      <td>...</td>\n      <td>...</td>\n      <td>...</td>\n      <td>...</td>\n      <td>...</td>\n      <td>...</td>\n      <td>...</td>\n      <td>...</td>\n      <td>...</td>\n      <td>...</td>\n      <td>...</td>\n      <td>...</td>\n      <td>...</td>\n      <td>...</td>\n    </tr>\n    <tr>\n      <th>5038</th>\n      <td>1.0</td>\n      <td>87.0</td>\n      <td>318.0</td>\n      <td>637.0</td>\n      <td>NaN</td>\n      <td>629</td>\n      <td>2283</td>\n      <td>2.0</td>\n      <td>6.0</td>\n      <td>NaN</td>\n      <td>2013.0</td>\n      <td>470.0</td>\n      <td>7.7</td>\n      <td>NaN</td>\n      <td>0</td>\n      <td>...</td>\n      <td>1</td>\n      <td>0</td>\n      <td>0</td>\n      <td>1</td>\n      <td>0</td>\n      <td>0</td>\n      <td>0</td>\n      <td>0</td>\n      <td>0</td>\n      <td>0</td>\n      <td>0</td>\n      <td>0</td>\n      <td>0</td>\n      <td>0</td>\n      <td>0</td>\n    </tr>\n    <tr>\n      <th>5039</th>\n      <td>43.0</td>\n      <td>43.0</td>\n      <td>319.0</td>\n      <td>841.0</td>\n      <td>NaN</td>\n      <td>73839</td>\n      <td>1753</td>\n      <td>1.0</td>\n      <td>359.0</td>\n      <td>NaN</td>\n      <td>NaN</td>\n      <td>593.0</td>\n      <td>7.5</td>\n      <td>16.00</td>\n      <td>0</td>\n      <td>...</td>\n      <td>1</td>\n      <td>0</td>\n      <td>0</td>\n      <td>1</td>\n      <td>0</td>\n      <td>0</td>\n      <td>0</td>\n      <td>1</td>\n      <td>0</td>\n      <td>0</td>\n      <td>0</td>\n      <td>0</td>\n      <td>0</td>\n      <td>0</td>\n      <td>0</td>\n    </tr>\n    <tr>\n      <th>5040</th>\n      <td>13.0</td>\n      <td>76.0</td>\n      <td>0.0</td>\n      <td>0.0</td>\n      <td>NaN</td>\n      <td>38</td>\n      <td>0</td>\n      <td>0.0</td>\n      <td>3.0</td>\n      <td>1400.0</td>\n      <td>2013.0</td>\n      <td>0.0</td>\n      <td>6.3</td>\n      <td>NaN</td>\n      <td>0</td>\n      <td>...</td>\n      <td>1</td>\n      <td>0</td>\n      <td>0</td>\n      <td>1</td>\n      <td>0</td>\n      <td>0</td>\n      <td>0</td>\n      <td>0</td>\n      <td>0</td>\n      <td>0</td>\n      <td>0</td>\n      <td>0</td>\n      <td>0</td>\n      <td>0</td>\n      <td>0</td>\n    </tr>\n    <tr>\n      <th>5041</th>\n      <td>14.0</td>\n      <td>100.0</td>\n      <td>489.0</td>\n      <td>946.0</td>\n      <td>10443.0</td>\n      <td>1255</td>\n      <td>2386</td>\n      <td>5.0</td>\n      <td>9.0</td>\n      <td>NaN</td>\n      <td>2012.0</td>\n      <td>719.0</td>\n      <td>6.3</td>\n      <td>2.35</td>\n      <td>0</td>\n      <td>...</td>\n      <td>1</td>\n      <td>0</td>\n      <td>0</td>\n      <td>1</td>\n      <td>0</td>\n      <td>0</td>\n      <td>0</td>\n      <td>1</td>\n      <td>0</td>\n      <td>0</td>\n      <td>0</td>\n      <td>0</td>\n      <td>0</td>\n      <td>0</td>\n      <td>0</td>\n    </tr>\n    <tr>\n      <th>5042</th>\n      <td>43.0</td>\n      <td>90.0</td>\n      <td>16.0</td>\n      <td>86.0</td>\n      <td>85222.0</td>\n      <td>4285</td>\n      <td>163</td>\n      <td>0.0</td>\n      <td>84.0</td>\n      <td>1100.0</td>\n      <td>2004.0</td>\n      <td>23.0</td>\n      <td>6.6</td>\n      <td>1.85</td>\n      <td>0</td>\n      <td>...</td>\n      <td>1</td>\n      <td>0</td>\n      <td>0</td>\n      <td>1</td>\n      <td>0</td>\n      <td>0</td>\n      <td>1</td>\n      <td>0</td>\n      <td>0</td>\n      <td>0</td>\n      <td>0</td>\n      <td>0</td>\n      <td>0</td>\n      <td>0</td>\n      <td>0</td>\n    </tr>\n  </tbody>\n</table>\n<p>4998 rows × 55 columns</p>\n</div>"
     },
     "execution_count": 38,
     "metadata": {},
     "output_type": "execute_result"
    }
   ],
   "source": [
    "for varcat in df.select_dtypes(include=\"object\").columns:\n",
    "    dump = pd.get_dummies(df[varcat], drop_first=True)\n",
    "    df = pd.concat([df, dump], axis=1)\n",
    "    df.drop([varcat], axis=1, inplace=True)\n",
    "df"
   ]
  },
  {
   "cell_type": "markdown",
   "metadata": {},
   "source": [
    "**Ici, l'hypothèse est de tester différentes variables et garder que celles dont les coefficients sont significatifs c'est àd ire impactent le modele**."
   ]
  },
  {
   "cell_type": "code",
   "execution_count": 39,
   "metadata": {
    "collapsed": false,
    "pycharm": {
     "name": "#%%\n"
    }
   },
   "outputs": [
    {
     "data": {
      "text/plain": "       num_critic_for_reviews     duration  actor_3_fb_likes  \\\ncount             4949.000000  4983.000000       4975.000000   \nmean               139.890079   107.213325        639.900905   \nstd                121.477586    25.248775       1643.298282   \nmin                  1.000000     7.000000          0.000000   \n25%                 50.000000    93.000000        133.000000   \n50%                110.000000   103.000000        369.000000   \n75%                195.000000   118.000000        635.000000   \nmax                813.000000   511.000000      23000.000000   \n\n       actor_1_fb_likes         gross  num_voted_users  cast_total_fb_likes  \\\ncount       4991.000000  4.327000e+03     4.998000e+03          4998.000000   \nmean        6556.939892  4.659299e+07     8.347020e+04          9676.941176   \nstd        15061.586700  6.690463e+07     1.380866e+05         18165.404578   \nmin            0.000000  1.620000e+02     5.000000e+00             0.000000   \n25%          611.500000  4.548672e+06     8.560000e+03          1405.500000   \n50%          984.000000  2.368988e+07     3.426050e+04          3085.500000   \n75%        11000.000000  5.960257e+07     9.612075e+04         13740.500000   \nmax       640000.000000  7.605058e+08     1.689764e+06        656730.000000   \n\n       facenumber_in_poster  num_user_for_reviews        budget   title_year  \\\ncount           4985.000000           4977.000000  4.597000e+03  4891.000000   \nmean               1.368907            272.014667  3.938145e+07  2002.468820   \nstd                2.014623            377.776210  2.050767e+08    12.475235   \nmin                0.000000              1.000000  2.180000e+02  1916.000000   \n25%                0.000000             64.000000  6.000000e+06  1999.000000   \n50%                1.000000            156.000000  2.000000e+07  2005.000000   \n75%                2.000000            324.000000  4.400000e+07  2011.000000   \nmax               43.000000           5060.000000  1.221550e+10  2016.000000   \n\n       actor_2_fb_likes   imdb_score  aspect_ratio       Action  ...  \\\ncount       4985.000000  4998.000000   4671.000000  4998.000000  ...   \nmean        1642.998796     6.441056      2.221417     0.228691  ...   \nstd         4030.925303     1.124107      1.391185     0.420032  ...   \nmin            0.000000     1.600000      1.180000     0.000000  ...   \n25%          280.000000     5.800000      1.850000     0.000000  ...   \n50%          595.000000     6.600000      2.350000     0.000000  ...   \n75%          917.000000     7.200000      2.350000     0.000000  ...   \nmax       137000.000000     9.500000     16.000000     1.000000  ...   \n\n             Color     European  Other languages  North America  \\\ncount  4998.000000  4998.000000      4998.000000    4998.000000   \nmean      0.954782     0.034814         0.032413       0.779712   \nstd       0.207803     0.183327         0.177112       0.414482   \nmin       0.000000     0.000000         0.000000       0.000000   \n25%       1.000000     0.000000         0.000000       1.000000   \n50%       1.000000     0.000000         0.000000       1.000000   \n75%       1.000000     0.000000         0.000000       1.000000   \nmax       1.000000     1.000000         1.000000       1.000000   \n\n       Other countries        NC-17           PG        PG-13            R  \\\ncount      4998.000000  4998.000000  4998.000000  4998.000000  4998.000000   \nmean          0.056423     0.004002     0.154662     0.294918     0.419768   \nstd           0.230759     0.063138     0.361618     0.456052     0.493570   \nmin           0.000000     0.000000     0.000000     0.000000     0.000000   \n25%           0.000000     0.000000     0.000000     0.000000     0.000000   \n50%           0.000000     0.000000     0.000000     0.000000     0.000000   \n75%           0.000000     0.000000     0.000000     1.000000     1.000000   \nmax           1.000000     1.000000     1.000000     1.000000     1.000000   \n\n              TV-G        TV-MA        TV-PG         TV-Y        TV-Y7  \\\ncount  4998.000000  4998.000000  4998.000000  4998.000000  4998.000000   \nmean      0.002001     0.003802     0.002601     0.000200     0.000200   \nstd       0.044690     0.061545     0.050939     0.014145     0.014145   \nmin       0.000000     0.000000     0.000000     0.000000     0.000000   \n25%       0.000000     0.000000     0.000000     0.000000     0.000000   \n50%       0.000000     0.000000     0.000000     0.000000     0.000000   \n75%       0.000000     0.000000     0.000000     0.000000     0.000000   \nmax       1.000000     1.000000     1.000000     1.000000     1.000000   \n\n                UR  \ncount  4998.000000  \nmean      0.035214  \nstd       0.184339  \nmin       0.000000  \n25%       0.000000  \n50%       0.000000  \n75%       0.000000  \nmax       1.000000  \n\n[8 rows x 55 columns]",
      "text/html": "<div>\n<style scoped>\n    .dataframe tbody tr th:only-of-type {\n        vertical-align: middle;\n    }\n\n    .dataframe tbody tr th {\n        vertical-align: top;\n    }\n\n    .dataframe thead th {\n        text-align: right;\n    }\n</style>\n<table border=\"1\" class=\"dataframe\">\n  <thead>\n    <tr style=\"text-align: right;\">\n      <th></th>\n      <th>num_critic_for_reviews</th>\n      <th>duration</th>\n      <th>actor_3_fb_likes</th>\n      <th>actor_1_fb_likes</th>\n      <th>gross</th>\n      <th>num_voted_users</th>\n      <th>cast_total_fb_likes</th>\n      <th>facenumber_in_poster</th>\n      <th>num_user_for_reviews</th>\n      <th>budget</th>\n      <th>title_year</th>\n      <th>actor_2_fb_likes</th>\n      <th>imdb_score</th>\n      <th>aspect_ratio</th>\n      <th>Action</th>\n      <th>...</th>\n      <th>Color</th>\n      <th>European</th>\n      <th>Other languages</th>\n      <th>North America</th>\n      <th>Other countries</th>\n      <th>NC-17</th>\n      <th>PG</th>\n      <th>PG-13</th>\n      <th>R</th>\n      <th>TV-G</th>\n      <th>TV-MA</th>\n      <th>TV-PG</th>\n      <th>TV-Y</th>\n      <th>TV-Y7</th>\n      <th>UR</th>\n    </tr>\n  </thead>\n  <tbody>\n    <tr>\n      <th>count</th>\n      <td>4949.000000</td>\n      <td>4983.000000</td>\n      <td>4975.000000</td>\n      <td>4991.000000</td>\n      <td>4.327000e+03</td>\n      <td>4.998000e+03</td>\n      <td>4998.000000</td>\n      <td>4985.000000</td>\n      <td>4977.000000</td>\n      <td>4.597000e+03</td>\n      <td>4891.000000</td>\n      <td>4985.000000</td>\n      <td>4998.000000</td>\n      <td>4671.000000</td>\n      <td>4998.000000</td>\n      <td>...</td>\n      <td>4998.000000</td>\n      <td>4998.000000</td>\n      <td>4998.000000</td>\n      <td>4998.000000</td>\n      <td>4998.000000</td>\n      <td>4998.000000</td>\n      <td>4998.000000</td>\n      <td>4998.000000</td>\n      <td>4998.000000</td>\n      <td>4998.000000</td>\n      <td>4998.000000</td>\n      <td>4998.000000</td>\n      <td>4998.000000</td>\n      <td>4998.000000</td>\n      <td>4998.000000</td>\n    </tr>\n    <tr>\n      <th>mean</th>\n      <td>139.890079</td>\n      <td>107.213325</td>\n      <td>639.900905</td>\n      <td>6556.939892</td>\n      <td>4.659299e+07</td>\n      <td>8.347020e+04</td>\n      <td>9676.941176</td>\n      <td>1.368907</td>\n      <td>272.014667</td>\n      <td>3.938145e+07</td>\n      <td>2002.468820</td>\n      <td>1642.998796</td>\n      <td>6.441056</td>\n      <td>2.221417</td>\n      <td>0.228691</td>\n      <td>...</td>\n      <td>0.954782</td>\n      <td>0.034814</td>\n      <td>0.032413</td>\n      <td>0.779712</td>\n      <td>0.056423</td>\n      <td>0.004002</td>\n      <td>0.154662</td>\n      <td>0.294918</td>\n      <td>0.419768</td>\n      <td>0.002001</td>\n      <td>0.003802</td>\n      <td>0.002601</td>\n      <td>0.000200</td>\n      <td>0.000200</td>\n      <td>0.035214</td>\n    </tr>\n    <tr>\n      <th>std</th>\n      <td>121.477586</td>\n      <td>25.248775</td>\n      <td>1643.298282</td>\n      <td>15061.586700</td>\n      <td>6.690463e+07</td>\n      <td>1.380866e+05</td>\n      <td>18165.404578</td>\n      <td>2.014623</td>\n      <td>377.776210</td>\n      <td>2.050767e+08</td>\n      <td>12.475235</td>\n      <td>4030.925303</td>\n      <td>1.124107</td>\n      <td>1.391185</td>\n      <td>0.420032</td>\n      <td>...</td>\n      <td>0.207803</td>\n      <td>0.183327</td>\n      <td>0.177112</td>\n      <td>0.414482</td>\n      <td>0.230759</td>\n      <td>0.063138</td>\n      <td>0.361618</td>\n      <td>0.456052</td>\n      <td>0.493570</td>\n      <td>0.044690</td>\n      <td>0.061545</td>\n      <td>0.050939</td>\n      <td>0.014145</td>\n      <td>0.014145</td>\n      <td>0.184339</td>\n    </tr>\n    <tr>\n      <th>min</th>\n      <td>1.000000</td>\n      <td>7.000000</td>\n      <td>0.000000</td>\n      <td>0.000000</td>\n      <td>1.620000e+02</td>\n      <td>5.000000e+00</td>\n      <td>0.000000</td>\n      <td>0.000000</td>\n      <td>1.000000</td>\n      <td>2.180000e+02</td>\n      <td>1916.000000</td>\n      <td>0.000000</td>\n      <td>1.600000</td>\n      <td>1.180000</td>\n      <td>0.000000</td>\n      <td>...</td>\n      <td>0.000000</td>\n      <td>0.000000</td>\n      <td>0.000000</td>\n      <td>0.000000</td>\n      <td>0.000000</td>\n      <td>0.000000</td>\n      <td>0.000000</td>\n      <td>0.000000</td>\n      <td>0.000000</td>\n      <td>0.000000</td>\n      <td>0.000000</td>\n      <td>0.000000</td>\n      <td>0.000000</td>\n      <td>0.000000</td>\n      <td>0.000000</td>\n    </tr>\n    <tr>\n      <th>25%</th>\n      <td>50.000000</td>\n      <td>93.000000</td>\n      <td>133.000000</td>\n      <td>611.500000</td>\n      <td>4.548672e+06</td>\n      <td>8.560000e+03</td>\n      <td>1405.500000</td>\n      <td>0.000000</td>\n      <td>64.000000</td>\n      <td>6.000000e+06</td>\n      <td>1999.000000</td>\n      <td>280.000000</td>\n      <td>5.800000</td>\n      <td>1.850000</td>\n      <td>0.000000</td>\n      <td>...</td>\n      <td>1.000000</td>\n      <td>0.000000</td>\n      <td>0.000000</td>\n      <td>1.000000</td>\n      <td>0.000000</td>\n      <td>0.000000</td>\n      <td>0.000000</td>\n      <td>0.000000</td>\n      <td>0.000000</td>\n      <td>0.000000</td>\n      <td>0.000000</td>\n      <td>0.000000</td>\n      <td>0.000000</td>\n      <td>0.000000</td>\n      <td>0.000000</td>\n    </tr>\n    <tr>\n      <th>50%</th>\n      <td>110.000000</td>\n      <td>103.000000</td>\n      <td>369.000000</td>\n      <td>984.000000</td>\n      <td>2.368988e+07</td>\n      <td>3.426050e+04</td>\n      <td>3085.500000</td>\n      <td>1.000000</td>\n      <td>156.000000</td>\n      <td>2.000000e+07</td>\n      <td>2005.000000</td>\n      <td>595.000000</td>\n      <td>6.600000</td>\n      <td>2.350000</td>\n      <td>0.000000</td>\n      <td>...</td>\n      <td>1.000000</td>\n      <td>0.000000</td>\n      <td>0.000000</td>\n      <td>1.000000</td>\n      <td>0.000000</td>\n      <td>0.000000</td>\n      <td>0.000000</td>\n      <td>0.000000</td>\n      <td>0.000000</td>\n      <td>0.000000</td>\n      <td>0.000000</td>\n      <td>0.000000</td>\n      <td>0.000000</td>\n      <td>0.000000</td>\n      <td>0.000000</td>\n    </tr>\n    <tr>\n      <th>75%</th>\n      <td>195.000000</td>\n      <td>118.000000</td>\n      <td>635.000000</td>\n      <td>11000.000000</td>\n      <td>5.960257e+07</td>\n      <td>9.612075e+04</td>\n      <td>13740.500000</td>\n      <td>2.000000</td>\n      <td>324.000000</td>\n      <td>4.400000e+07</td>\n      <td>2011.000000</td>\n      <td>917.000000</td>\n      <td>7.200000</td>\n      <td>2.350000</td>\n      <td>0.000000</td>\n      <td>...</td>\n      <td>1.000000</td>\n      <td>0.000000</td>\n      <td>0.000000</td>\n      <td>1.000000</td>\n      <td>0.000000</td>\n      <td>0.000000</td>\n      <td>0.000000</td>\n      <td>1.000000</td>\n      <td>1.000000</td>\n      <td>0.000000</td>\n      <td>0.000000</td>\n      <td>0.000000</td>\n      <td>0.000000</td>\n      <td>0.000000</td>\n      <td>0.000000</td>\n    </tr>\n    <tr>\n      <th>max</th>\n      <td>813.000000</td>\n      <td>511.000000</td>\n      <td>23000.000000</td>\n      <td>640000.000000</td>\n      <td>7.605058e+08</td>\n      <td>1.689764e+06</td>\n      <td>656730.000000</td>\n      <td>43.000000</td>\n      <td>5060.000000</td>\n      <td>1.221550e+10</td>\n      <td>2016.000000</td>\n      <td>137000.000000</td>\n      <td>9.500000</td>\n      <td>16.000000</td>\n      <td>1.000000</td>\n      <td>...</td>\n      <td>1.000000</td>\n      <td>1.000000</td>\n      <td>1.000000</td>\n      <td>1.000000</td>\n      <td>1.000000</td>\n      <td>1.000000</td>\n      <td>1.000000</td>\n      <td>1.000000</td>\n      <td>1.000000</td>\n      <td>1.000000</td>\n      <td>1.000000</td>\n      <td>1.000000</td>\n      <td>1.000000</td>\n      <td>1.000000</td>\n      <td>1.000000</td>\n    </tr>\n  </tbody>\n</table>\n<p>8 rows × 55 columns</p>\n</div>"
     },
     "execution_count": 39,
     "metadata": {},
     "output_type": "execute_result"
    }
   ],
   "source": [
    "df.describe()"
   ]
  },
  {
   "cell_type": "code",
   "execution_count": 40,
   "metadata": {},
   "outputs": [
    {
     "data": {
      "text/plain": "((4998, 43), (4998,))"
     },
     "execution_count": 40,
     "metadata": {},
     "output_type": "execute_result"
    }
   ],
   "source": [
    "df = df.dropna(axis =1)\n",
    "X = df.drop('imdb_score', axis=1)\n",
    "y = df['imdb_score']\n",
    "X.shape, y.shape"
   ]
  },
  {
   "cell_type": "markdown",
   "metadata": {
    "collapsed": false
   },
   "source": [
    "**Définition du model d'entrainement et du model test pour la modelisation**"
   ]
  },
  {
   "cell_type": "code",
   "execution_count": 41,
   "metadata": {},
   "outputs": [
    {
     "data": {
      "text/plain": "((3998, 43), (1000, 43), (3998,), (1000,))"
     },
     "execution_count": 41,
     "metadata": {},
     "output_type": "execute_result"
    }
   ],
   "source": [
    "from sklearn.model_selection import train_test_split\n",
    "X_train, X_test, y_train, y_test = train_test_split(X, y, test_size=0.2, random_state=42)\n",
    "X_train.shape, X_test.shape, y_train.shape, y_test.shape"
   ]
  },
  {
   "cell_type": "markdown",
   "metadata": {
    "collapsed": false
   },
   "source": [
    "**Standardisation des variables**"
   ]
  },
  {
   "cell_type": "code",
   "execution_count": 42,
   "metadata": {},
   "outputs": [],
   "source": [
    "#standardisation des variables du modele\n",
    "from sklearn.preprocessing import MinMaxScaler\n",
    "scaler = MinMaxScaler()\n",
    "X_train = pd.DataFrame(scaler.fit_transform(X_train), columns=X_train.columns, index=X_train.index)\n",
    "X_test = pd.DataFrame(scaler.transform(X_test), columns = X_train.columns, index = X_test.index)"
   ]
  },
  {
   "cell_type": "markdown",
   "metadata": {
    "colab_type": "text",
    "id": "nNnaPdClkRvC",
    "pycharm": {
     "name": "#%% md\n"
    }
   },
   "source": [
    "## **6. Une régression linéaire**"
   ]
  },
  {
   "cell_type": "markdown",
   "metadata": {},
   "source": [
    "**À FAIRE**\n",
    "\n",
    ">Tout est dans le titre. Vous devez ici entraîner et tester une régression linéaire pour la prédiction de la note IMDB.  \n",
    ">Par ailleurs, sont attendus ici :\n",
    ">- un affichage et une interprétation des coefficients et de leur significativité\n",
    ">- le choix d'une mesure d'évaluation du modèle et son interprétation\n",
    ">- une validation croisée pour l'estimation de la qualité du modèle\n",
    ">- *facultatif : l'ajout d'une régularisation Ridge ou Lasso pour déterminer si les résultats sont meilleurs*"
   ]
  },
  {
   "cell_type": "code",
   "execution_count": 43,
   "metadata": {},
   "outputs": [
    {
     "name": "stdout",
     "output_type": "stream",
     "text": [
      "                            OLS Regression Results                            \n",
      "==============================================================================\n",
      "Dep. Variable:             imdb_score   R-squared:                       0.400\n",
      "Model:                            OLS   Adj. R-squared:                  0.393\n",
      "Method:                 Least Squares   F-statistic:                     62.71\n",
      "Date:                Tue, 11 Jan 2022   Prob (F-statistic):               0.00\n",
      "Time:                        14:12:06   Log-Likelihood:                -5125.8\n",
      "No. Observations:                3998   AIC:                         1.034e+04\n",
      "Df Residuals:                    3955   BIC:                         1.061e+04\n",
      "Df Model:                          42                                         \n",
      "Covariance Type:            nonrobust                                         \n",
      "=======================================================================================\n",
      "                          coef    std err          t      P>|t|      [0.025      0.975]\n",
      "---------------------------------------------------------------------------------------\n",
      "const                   6.5465      0.101     65.099      0.000       6.349       6.744\n",
      "num_voted_users         6.3194      0.184     34.367      0.000       5.959       6.680\n",
      "cast_total_fb_likes    -0.0405      0.515     -0.079      0.937      -1.050       0.969\n",
      "Action                 -0.2908      0.041     -7.039      0.000      -0.372      -0.210\n",
      "Adventure               0.0273      0.045      0.608      0.543      -0.061       0.115\n",
      "Animation               0.3491      0.081      4.322      0.000       0.191       0.507\n",
      "Biography               0.2861      0.066      4.347      0.000       0.157       0.415\n",
      "Comedy                 -0.1487      0.036     -4.153      0.000      -0.219      -0.078\n",
      "Crime                   0.1140      0.043      2.677      0.007       0.031       0.197\n",
      "Documentary             0.9734      0.102      9.558      0.000       0.774       1.173\n",
      "Drama                   0.4892      0.035     14.004      0.000       0.421       0.558\n",
      "Family                 -0.2647      0.066     -3.984      0.000      -0.395      -0.134\n",
      "Fantasy                -0.0029      0.047     -0.062      0.951      -0.096       0.090\n",
      "Film-Noir               0.8558      0.443      1.932      0.053      -0.013       1.724\n",
      "Game-Show              -3.4709      1.245     -2.787      0.005      -5.912      -1.029\n",
      "History                 0.1127      0.080      1.401      0.161      -0.045       0.270\n",
      "Horror                 -0.3613      0.052     -6.939      0.000      -0.463      -0.259\n",
      "Music                  -0.0700      0.070     -1.000      0.317      -0.207       0.067\n",
      "Musical                 0.1482      0.086      1.717      0.086      -0.021       0.317\n",
      "Mystery                 0.0985      0.051      1.919      0.055      -0.002       0.199\n",
      "News                    0.2276      0.628      0.363      0.717      -1.003       1.458\n",
      "Reality-TV              0.5029      0.881      0.571      0.568      -1.224       2.230\n",
      "Romance                -0.0270      0.037     -0.739      0.460      -0.099       0.045\n",
      "Sci-Fi                 -0.0644      0.047     -1.361      0.174      -0.157       0.028\n",
      "Short                   0.4638      0.396      1.170      0.242      -0.313       1.241\n",
      "Sport                   0.1261      0.079      1.601      0.110      -0.028       0.281\n",
      "Thriller               -0.1427      0.040     -3.600      0.000      -0.220      -0.065\n",
      "War                     0.1402      0.076      1.847      0.065      -0.009       0.289\n",
      "Western                 0.2700      0.104      2.601      0.009       0.066       0.474\n",
      "Color                  -0.4469      0.070     -6.403      0.000      -0.584      -0.310\n",
      "European                0.4651      0.081      5.741      0.000       0.306       0.624\n",
      "Other languages         0.4737      0.097      4.889      0.000       0.284       0.664\n",
      "North America          -0.2210      0.041     -5.377      0.000      -0.302      -0.140\n",
      "Other countries        -0.1527      0.079     -1.936      0.053      -0.307       0.002\n",
      "NC-17                   0.3010      0.227      1.327      0.185      -0.144       0.746\n",
      "PG                      0.1430      0.065      2.199      0.028       0.015       0.270\n",
      "PG-13                  -0.1633      0.062     -2.651      0.008      -0.284      -0.043\n",
      "R                       0.0947      0.059      1.593      0.111      -0.022       0.211\n",
      "TV-G                    0.8019      0.317      2.527      0.012       0.180       1.424\n",
      "TV-MA                   1.6020      0.233      6.861      0.000       1.144       2.060\n",
      "TV-PG                   1.4491      0.283      5.116      0.000       0.894       2.004\n",
      "TV-Y                 3.826e-16   1.28e-15      0.300      0.764   -2.12e-15    2.88e-15\n",
      "TV-Y7                   1.6554      0.883      1.874      0.061      -0.077       3.387\n",
      "UR                      0.1605      0.090      1.774      0.076      -0.017       0.338\n",
      "==============================================================================\n",
      "Omnibus:                      772.608   Durbin-Watson:                   1.967\n",
      "Prob(Omnibus):                  0.000   Jarque-Bera (JB):             2014.999\n",
      "Skew:                          -1.043   Prob(JB):                         0.00\n",
      "Kurtosis:                       5.783   Cond. No.                     1.19e+16\n",
      "==============================================================================\n",
      "\n",
      "Notes:\n",
      "[1] Standard Errors assume that the covariance matrix of the errors is correctly specified.\n",
      "[2] The smallest eigenvalue is 1.02e-28. This might indicate that there are\n",
      "strong multicollinearity problems or that the design matrix is singular.\n"
     ]
    },
    {
     "name": "stderr",
     "output_type": "stream",
     "text": [
      "/opt/homebrew/anaconda3/lib/python3.9/site-packages/statsmodels/tsa/tsatools.py:142: FutureWarning: In a future version of pandas all arguments of concat except for the argument 'objs' will be keyword-only\n",
      "  x = pd.concat(x[::order], 1)\n"
     ]
    }
   ],
   "source": [
    "# Les coefficients du modele et leurs significations\n",
    "from statsmodels.api import OLS, add_constant\n",
    "\n",
    "model = OLS(y_train, add_constant(X_train))\n",
    "res = model.fit()\n",
    "print(res.summary())"
   ]
  },
  {
   "cell_type": "markdown",
   "metadata": {
    "collapsed": false
   },
   "source": [
    "**Validation croisé pour une meilleure estimation du modele**"
   ]
  },
  {
   "cell_type": "code",
   "execution_count": 44,
   "metadata": {},
   "outputs": [
    {
     "data": {
      "text/plain": "array([0.38147828, 0.40063064, 0.40122571, 0.40851677, 0.33046261])"
     },
     "execution_count": 44,
     "metadata": {},
     "output_type": "execute_result"
    }
   ],
   "source": [
    "from sklearn.model_selection import cross_val_score\n",
    "from sklearn.linear_model import LinearRegression\n",
    "\n",
    "cross_val_score(LinearRegression(), X_train, y_train, cv=None)"
   ]
  },
  {
   "cell_type": "markdown",
   "metadata": {
    "collapsed": false
   },
   "source": [
    "**Calcul des erreurs standard servant d'indicateur d'amélioration du modele - MSE**"
   ]
  },
  {
   "cell_type": "code",
   "execution_count": 50,
   "metadata": {},
   "outputs": [
    {
     "name": "stderr",
     "output_type": "stream",
     "text": [
      "/opt/homebrew/anaconda3/lib/python3.9/site-packages/statsmodels/tsa/tsatools.py:142: FutureWarning: In a future version of pandas all arguments of concat except for the argument 'objs' will be keyword-only\n",
      "  x = pd.concat(x[::order], 1)\n"
     ]
    },
    {
     "data": {
      "text/plain": "0.7854509967199453"
     },
     "execution_count": 50,
     "metadata": {},
     "output_type": "execute_result"
    }
   ],
   "source": [
    "from sklearn.metrics import mean_squared_error\n",
    "X_test_const = add_constant(X_test)\n",
    "error0 = mean_squared_error(OLS(y_train,add_constant(X_train)).fit().predict(add_constant(X_test)),y_test)\n",
    "error0"
   ]
  },
  {
   "cell_type": "markdown",
   "metadata": {
    "collapsed": false
   },
   "source": [
    "**Le MSE est l'indicateur à minimiser dans une regression lineaire alors qu'elle est très élévée ce qui remet en question la qualité du modèle**"
   ]
  },
  {
   "cell_type": "markdown",
   "metadata": {},
   "source": [
    "*facultatif : l'ajout d'une régularisation Ridge ou Lasso pour déterminer si les résultats sont meilleurs*"
   ]
  },
  {
   "cell_type": "markdown",
   "metadata": {},
   "source": [
    " **Modele de Regression Ridge avec les parametres de penalisation**"
   ]
  },
  {
   "cell_type": "code",
   "execution_count": 51,
   "metadata": {},
   "outputs": [],
   "source": [
    "# Définition des coefficients de regularisation à tester \n",
    "alphas = np.logspace(-5, 5, 200)"
   ]
  },
  {
   "cell_type": "code",
   "execution_count": 52,
   "metadata": {},
   "outputs": [],
   "source": [
    "from sklearn.linear_model import Ridge\n",
    "ridge = Ridge()\n",
    "\n",
    "# on va entrainer le modèle\n",
    "\n",
    "coefs = []\n",
    "errors_ridge = []\n",
    "for a in alphas:\n",
    "  ridge.set_params(alpha = a)\n",
    "  ridge.fit(X_train, y_train)\n",
    "  coefs.append(ridge.coef_)\n",
    "  errors_ridge.append(mean_squared_error(ridge.predict(X_test), y_test))\n"
   ]
  },
  {
   "cell_type": "code",
   "execution_count": 53,
   "metadata": {},
   "outputs": [
    {
     "data": {
      "text/plain": "<Figure size 1152x432 with 2 Axes>",
      "image/png": "[encoded data removed]"
     },
     "metadata": {
      "needs_background": "light"
     },
     "output_type": "display_data"
    }
   ],
   "source": [
    "# Mettons en exergue l'affichage des courbes d'évolution des coef et des erreurs en foncion des valeurs de alphas\n",
    "fig, (ax1, ax2) = plt.subplots(1,2, figsize=(16,6))\n",
    "\n",
    "\n",
    "ax1.plot(alphas, coefs)\n",
    "ax1.set_xscale('log')\n",
    "ax1.set_label('Paramètres de régularisation')\n",
    "ax1.set_ylabel('Coefficients')\n",
    "\n",
    "ax2.plot(alphas, errors_ridge,[10**-5, 10**5],[error0, error0])\n",
    "ax2.set_xscale('log')\n",
    "ax2.set_label('Paramètres de régularisation')\n",
    "ax2.set_ylabel('MSE')\n",
    "\n",
    "plt.suptitle('Regression Ridge', fontsize=16)\n",
    "\n",
    "plt.show()"
   ]
  },
  {
   "cell_type": "code",
   "execution_count": 54,
   "metadata": {},
   "outputs": [
    {
     "name": "stdout",
     "output_type": "stream",
     "text": [
      "0.7847 \n",
      " 0.9437878277775391\n"
     ]
    }
   ],
   "source": [
    "#Erreur minimum de la regression Ridge et la valeur de alpha qui minimise le modele\n",
    "\n",
    "print(round(min(errors_ridge), 4), '\\n', alphas[np.argmin(errors_ridge)])"
   ]
  },
  {
   "cell_type": "markdown",
   "metadata": {},
   "source": [
    " **Modele de Regression Lasso avec les parametres de penalisation**"
   ]
  },
  {
   "cell_type": "code",
   "execution_count": 55,
   "metadata": {},
   "outputs": [],
   "source": [
    "from sklearn.linear_model import Lasso\n",
    "lasso = Lasso()\n",
    "\n",
    "# Entrainer le modele\n",
    "\n",
    "coefs = []\n",
    "errors_lasso = []\n",
    "for a in alphas:\n",
    "  lasso.set_params(alpha = a)\n",
    "  lasso.fit(X_train, y_train)\n",
    "  coefs.append(lasso.coef_ )\n",
    "  errors_lasso.append(mean_squared_error(lasso.predict(X_test), y_test))"
   ]
  },
  {
   "cell_type": "code",
   "execution_count": 56,
   "metadata": {},
   "outputs": [
    {
     "data": {
      "text/plain": "<Figure size 1152x432 with 2 Axes>",
      "image/png": "[encoded data removed]"
     },
     "metadata": {
      "needs_background": "light"
     },
     "output_type": "display_data"
    }
   ],
   "source": [
    "# Mettons en exergue l'affichage des courbes d'évolution des coef et des erreurs en foncion des valeurs de alphas\n",
    "\n",
    "fig, (ax1, ax2) = plt.subplots(1,2, figsize=(16,6))\n",
    "\n",
    "ax1.plot(alphas, coefs)\n",
    "ax1.set_xscale('log')\n",
    "ax1.set_xlabel('Paramètres de régularisation')\n",
    "ax1.set_ylabel('Coefficients')\n",
    "\n",
    "\n",
    "ax2.plot(alphas, errors_lasso, [10**-5, 10**5], [error0, error0])\n",
    "ax2.set_xscale('log')\n",
    "ax2.set_xlabel('Paramètres de régularisation')\n",
    "ax2.set_ylabel('MSE')\n",
    "\n",
    "\n",
    "plt.suptitle('Regression Lasso', fontsize=16)\n",
    "plt.show()"
   ]
  },
  {
   "cell_type": "code",
   "execution_count": 57,
   "metadata": {},
   "outputs": [
    {
     "name": "stdout",
     "output_type": "stream",
     "text": [
      "0.7834 \n",
      " 0.00045529350748669476\n"
     ]
    }
   ],
   "source": [
    "#Erreur minimum de la regression Ridge et la valeur de alpha qui minimise le modele\n",
    "print(round(min( errors_lasso),4), '\\n', alphas[np.argmin( errors_lasso)])"
   ]
  },
  {
   "cell_type": "markdown",
   "metadata": {},
   "source": [
    "**Synthèse des différents modèles**"
   ]
  },
  {
   "cell_type": "code",
   "execution_count": 58,
   "metadata": {
    "collapsed": false,
    "pycharm": {
     "name": "#%%\n"
    }
   },
   "outputs": [
    {
     "name": "stdout",
     "output_type": "stream",
     "text": [
      "MSE_regression_lineaire = 0.7854509967199453\n",
      "MSE_regression_Ridge = 0.7846608713632047\n",
      "MSE_regression_Lasso = 0.7834142343151081\n"
     ]
    }
   ],
   "source": [
    "print(f\"MSE_regression_lineaire = {error0}\")\n",
    "print(f\"MSE_regression_Ridge = {np.min(errors_ridge)}\")\n",
    "print(f\"MSE_regression_Lasso = {np.min(errors_lasso)}\")\n"
   ]
  },
  {
   "cell_type": "markdown",
   "metadata": {
    "collapsed": false
   },
   "source": [
    "**On peut retenir que la regression Lasso est celle qui minimise l'erreur du modèle qui malgré tout reste très élevée**"
   ]
  },
  {
   "cell_type": "markdown",
   "metadata": {
    "colab_type": "text",
    "id": "nNnaPdClkRvC"
   },
   "source": [
    "## **7. D'autres modèles de régression**"
   ]
  },
  {
   "cell_type": "markdown",
   "metadata": {},
   "source": [
    "**À FAIRE**\n",
    "\n",
    ">Tout est encore dans le titre. Mettez en place le modèle **de régression** que vous souhaitez.  \n",
    ">Sont donc attendus dans cette partie :\n",
    ">- une petite phrase pour justifier votre choix\n",
    ">- les pré-traitements supplémentaires nécessaires s'il y en a\n",
    ">- évaluation du modèle avec `cross_val_score` ou `cross_validate`\n",
    ">- affinage des éventuels hyperparamètres avec `GridSearchCV`"
   ]
  },
  {
   "cell_type": "markdown",
   "metadata": {},
   "source": [
    "**Etant donnée que la variable dépendante du modèle est une variable continue, d'autres modèles de régression existent pour prédire ce modèle comme svm, random forest, etc...**"
   ]
  },
  {
   "cell_type": "markdown",
   "metadata": {
    "collapsed": false
   },
   "source": [
    "**1er Cas - Forêts aleatoires**"
   ]
  },
  {
   "cell_type": "code",
   "execution_count": 59,
   "metadata": {
    "collapsed": false,
    "pycharm": {
     "name": "#%%\n"
    }
   },
   "outputs": [],
   "source": [
    "from sklearn.ensemble import RandomForestRegressor\n",
    "rfa = RandomForestRegressor(n_estimators=500)\n",
    "rfa.fit(X_train, y_train)\n",
    "y_pred_rfa = rfa.predict(X_test)"
   ]
  },
  {
   "cell_type": "markdown",
   "metadata": {
    "collapsed": false
   },
   "source": [
    "**MSE avec le randomForest**"
   ]
  },
  {
   "cell_type": "code",
   "execution_count": 60,
   "metadata": {
    "collapsed": false,
    "pycharm": {
     "name": "#%%\n"
    }
   },
   "outputs": [
    {
     "data": {
      "text/plain": "0.6392438253200011"
     },
     "execution_count": 60,
     "metadata": {},
     "output_type": "execute_result"
    }
   ],
   "source": [
    "mean_squared_error(y_pred_rfa, y_test)"
   ]
  },
  {
   "cell_type": "markdown",
   "metadata": {
    "collapsed": false
   },
   "source": [
    "**Voyons ce que cela donne avec la validation croisée en utilisant différents paramètres**"
   ]
  },
  {
   "cell_type": "code",
   "execution_count": 62,
   "metadata": {
    "collapsed": false,
    "pycharm": {
     "name": "#%%\n"
    }
   },
   "outputs": [
    {
     "data": {
      "text/plain": "{'max_depth': 15, 'n_estimators': 1000}"
     },
     "execution_count": 62,
     "metadata": {},
     "output_type": "execute_result"
    }
   ],
   "source": [
    "from sklearn.model_selection import GridSearchCV\n",
    "\n",
    "param_grid = {\n",
    "    'max_depth': [5, 10, 15],\n",
    "    'n_estimators': [50, 100, 500,1000]\n",
    "}\n",
    "\n",
    "grid_cv_rfa = GridSearchCV(RandomForestRegressor(), param_grid=param_grid, cv=3, n_jobs=1)\n",
    "grid_cv_rfa.fit(X_train, y_train)\n",
    "grid_cv_rfa.best_params_"
   ]
  },
  {
   "cell_type": "markdown",
   "metadata": {
    "collapsed": false
   },
   "source": [
    "**MSE**"
   ]
  },
  {
   "cell_type": "code",
   "execution_count": 63,
   "metadata": {
    "collapsed": false,
    "pycharm": {
     "name": "#%%\n"
    }
   },
   "outputs": [
    {
     "data": {
      "text/plain": "0.6403918395978121"
     },
     "execution_count": 63,
     "metadata": {},
     "output_type": "execute_result"
    }
   ],
   "source": [
    "y_pred_rfa_grid_cv = grid_cv_rfa.predict(X_test)\n",
    "mean_squared_error(y_pred_rfa_grid_cv, y_test)"
   ]
  },
  {
   "cell_type": "markdown",
   "metadata": {
    "collapsed": false
   },
   "source": [
    "**2e Cas - SVM**"
   ]
  },
  {
   "cell_type": "code",
   "execution_count": 64,
   "metadata": {
    "collapsed": false,
    "pycharm": {
     "name": "#%%\n"
    }
   },
   "outputs": [],
   "source": [
    "from sklearn.svm import SVR"
   ]
  },
  {
   "cell_type": "markdown",
   "metadata": {
    "collapsed": false
   },
   "source": [
    "**pour le kernel linear**"
   ]
  },
  {
   "cell_type": "code",
   "execution_count": 65,
   "metadata": {
    "collapsed": false,
    "pycharm": {
     "name": "#%%\n"
    }
   },
   "outputs": [
    {
     "data": {
      "text/plain": "0.796092341326871"
     },
     "execution_count": 65,
     "metadata": {},
     "output_type": "execute_result"
    }
   ],
   "source": [
    "svr_lin = SVR(kernel='linear', gamma='auto')\n",
    "svr_lin.fit(X_train, y_train)\n",
    "y_pred_svr_l = svr_lin.predict(X_test)\n",
    "\n",
    "mean_squared_error(y_pred_svr_l, y_test)"
   ]
  },
  {
   "cell_type": "markdown",
   "metadata": {
    "collapsed": false
   },
   "source": [
    "**pour le rbf**"
   ]
  },
  {
   "cell_type": "code",
   "execution_count": 66,
   "metadata": {
    "collapsed": false,
    "pycharm": {
     "name": "#%%\n"
    }
   },
   "outputs": [
    {
     "data": {
      "text/plain": "0.8395086010221587"
     },
     "execution_count": 66,
     "metadata": {},
     "output_type": "execute_result"
    }
   ],
   "source": [
    "svr_rbf =  SVR(kernel='rbf', gamma='auto')\n",
    "svr_rbf.fit(X_train, y_train)\n",
    "y_pred_svr_rbf = svr_rbf.predict(X_test)\n",
    "\n",
    "mean_squared_error(y_pred_svr_rbf, y_test)"
   ]
  },
  {
   "cell_type": "code",
   "execution_count": 67,
   "metadata": {
    "collapsed": false,
    "pycharm": {
     "name": "#%%\n"
    }
   },
   "outputs": [
    {
     "data": {
      "text/plain": "0.8222265014821057"
     },
     "execution_count": 67,
     "metadata": {},
     "output_type": "execute_result"
    }
   ],
   "source": [
    "svr_poly =  SVR(kernel='poly', gamma=0.1,degree=2)\n",
    "\n",
    "svr_poly.fit(X_train, y_train)\n",
    "y_pred_svr_poly = svr_poly.predict(X_test)\n",
    "\n",
    "mean_squared_error(y_pred_svr_poly, y_test)"
   ]
  },
  {
   "cell_type": "markdown",
   "metadata": {
    "collapsed": false
   },
   "source": [
    "**Voyons ce que cela donne avec la validation croisée en utilisant différents paramètres**"
   ]
  },
  {
   "cell_type": "code",
   "execution_count": null,
   "metadata": {
    "collapsed": false,
    "pycharm": {
     "name": "#%%\n",
     "is_executing": true
    }
   },
   "outputs": [],
   "source": [
    "from sklearn.model_selection import GridSearchCV\n",
    "model = SVR()\n",
    "\n",
    "param_grid = {\n",
    "    'C': [10**k for k in range(-2,2)],\n",
    "    'kernel' : ['linear', 'poly', 'rbf'],\n",
    "    'degree' : [3,4],\n",
    "    'coef0' : [-1,-0.5,0,0.5],\n",
    "    'gamma' : ['auto', 'scale', 0.1, 0.001, 0.0001]\n",
    "}\n",
    "grid_cv_svm = GridSearchCV(model, param_grid, n_jobs=-1)\n",
    "\n",
    "grid.fit(X_train, y_train)\n",
    "#print(grid.best_params_)"
   ]
  },
  {
   "cell_type": "markdown",
   "metadata": {
    "collapsed": false
   },
   "source": []
  },
  {
   "cell_type": "markdown",
   "metadata": {
    "collapsed": false
   },
   "source": [
    "**Visualisation du modele qui affine un peu nos predictions en ùminimisant l'erreur**"
   ]
  },
  {
   "cell_type": "code",
   "execution_count": 71,
   "metadata": {
    "collapsed": false,
    "pycharm": {
     "name": "#%%\n"
    }
   },
   "outputs": [
    {
     "data": {
      "text/plain": "<Figure size 1008x1008 with 1 Axes>",
      "image/png": "[encoded data removed]"
     },
     "metadata": {
      "needs_background": "light"
     },
     "output_type": "display_data"
    }
   ],
   "source": [
    "feature_importance = grid_cv_rfa.best_estimator_.feature_importances_\n",
    "sorted_importance = np.argsort(feature_importance)\n",
    "pos = np.arange(len(sorted_importance))\n",
    "plt.figure(figsize=(14,14))\n",
    "plt.barh(pos, feature_importance[sorted_importance],align='center')\n",
    "plt.yticks(pos, X_train.columns[sorted_importance],fontsize=15)\n",
    "plt.title('Feature Importance ',fontsize=18)\n",
    "plt.show()"
   ]
  },
  {
   "cell_type": "markdown",
   "metadata": {
    "colab_type": "text",
    "id": "nNnaPdClkRvC"
   },
   "source": [
    "## **8. De la régression à la classification**"
   ]
  },
  {
   "cell_type": "markdown",
   "metadata": {},
   "source": [
    "**À FAIRE**\n",
    "\n",
    ">Transformez le problème de régression en un problème de classification par une discrétisation du score IMDB en 5 classes : nul, bof, sympa, bon, super.  \n",
    ">Justifiez votre découpage en indiquant quels seuils vous avez utilisé et pourquoi."
   ]
  },
  {
   "cell_type": "markdown",
   "metadata": {
    "collapsed": false
   },
   "source": [
    "**Transformons la variable dépendante numérique continue en variable catégorielle ordinale**"
   ]
  },
  {
   "cell_type": "code",
   "execution_count": 72,
   "metadata": {},
   "outputs": [
    {
     "data": {
      "text/plain": "sympa    1851\nbof      1398\nbon      1327\nsuper     250\nnul       172\nName: imdb_score, dtype: int64"
     },
     "execution_count": 72,
     "metadata": {},
     "output_type": "execute_result"
    }
   ],
   "source": [
    "y_ord = pd.cut(df['imdb_score'], bins=[0,4,6,7,8,10], right=True, labels= ['nul', 'bof', 'sympa', 'bon','super'])\n",
    "y_ord.value_counts()"
   ]
  },
  {
   "cell_type": "markdown",
   "metadata": {},
   "source": [
    "**Le choix des bins(seuil): je voulais répartir les scores de manières à avoir des valeurs pas trop faibles dans chacune des classes**"
   ]
  },
  {
   "cell_type": "markdown",
   "metadata": {},
   "source": [
    "<a id='reglog'></a>"
   ]
  },
  {
   "cell_type": "markdown",
   "metadata": {},
   "source": [
    "**On va entrainer à nouveau le model avec des la nouvelles variable dépendante y_ord**"
   ]
  },
  {
   "cell_type": "code",
   "execution_count": 74,
   "metadata": {},
   "outputs": [
    {
     "data": {
      "text/plain": "((3998, 43), (1000, 43), (3998,), (1000,))"
     },
     "execution_count": 74,
     "metadata": {},
     "output_type": "execute_result"
    }
   ],
   "source": [
    "from sklearn.model_selection import train_test_split\n",
    "X_train, X_test, y_train, y_test = train_test_split(X, y_ord, test_size=0.2, random_state=42)\n",
    "X_train.shape, X_test.shape, y_train.shape, y_test.shape"
   ]
  },
  {
   "cell_type": "markdown",
   "metadata": {
    "colab_type": "text",
    "id": "nNnaPdClkRvC"
   },
   "source": [
    "## **9. Une régression logistique**"
   ]
  },
  {
   "cell_type": "markdown",
   "metadata": {},
   "source": [
    "**À FAIRE**\n",
    "\n",
    ">Vous devez ici entraîner et tester une régression logistique pour la prédiction de la classe du film.  \n",
    ">Par ailleurs, sont attendus ici :\n",
    ">- un affichage et une interprétation des *Odds-ratio* et de leur significativité\n",
    ">- le choix d'une ou plusieurs mesures d'évaluation du modèle et leur interprétation\n",
    ">- une validation croisée pour l'évaluation modèle\n",
    ">- l'affinage des hyperparamètres avec l'outil qui va bien\n",
    ">- peut-on tracer les courbes ROC et calculer l'AUC ? Pourquoi ?"
   ]
  },
  {
   "cell_type": "markdown",
   "metadata": {
    "collapsed": false
   },
   "source": [
    "**Affichage des prédictions du modele via matrix de confusion**"
   ]
  },
  {
   "cell_type": "code",
   "execution_count": 76,
   "metadata": {},
   "outputs": [
    {
     "data": {
      "text/plain": "LogisticRegression()"
     },
     "execution_count": 76,
     "metadata": {},
     "output_type": "execute_result"
    }
   ],
   "source": [
    "from sklearn.linear_model import LogisticRegression\n",
    "from sklearn.metrics import confusion_matrix, r2_score as score\n",
    "reglog = LogisticRegression()\n",
    "reglog.fit(X_train, y_train)"
   ]
  },
  {
   "cell_type": "code",
   "execution_count": 77,
   "metadata": {
    "collapsed": false,
    "pycharm": {
     "name": "#%%\n"
    }
   },
   "outputs": [
    {
     "data": {
      "text/plain": "<Figure size 432x288 with 1 Axes>",
      "image/png": "[encoded data removed]"
     },
     "metadata": {
      "needs_background": "light"
     },
     "output_type": "display_data"
    }
   ],
   "source": [
    "sns.heatmap(confusion_matrix(reglog.predict(X_test),y_test, labels=reglog.classes_), annot=True, fmt='d', cbar=False);"
   ]
  },
  {
   "cell_type": "markdown",
   "metadata": {
    "collapsed": false
   },
   "source": [
    "**Evaluation du modele**"
   ]
  },
  {
   "cell_type": "code",
   "execution_count": 78,
   "metadata": {
    "collapsed": false,
    "pycharm": {
     "name": "#%%\n"
    }
   },
   "outputs": [
    {
     "name": "stdout",
     "output_type": "stream",
     "text": [
      "Score_train: 0.35617808904452225, Score_test: 0.333\n"
     ]
    }
   ],
   "source": [
    "print(f\"Score_train: {reglog.score(X_train, y_train) }, Score_test: {reglog.score(X_test, y_test)}\")"
   ]
  },
  {
   "cell_type": "markdown",
   "metadata": {
    "collapsed": false
   },
   "source": [
    "**Le modele de l'echantillon tesst predit bien le model entrainé mais on reste toujours à des scores relativement faibles**"
   ]
  },
  {
   "cell_type": "code",
   "execution_count": 79,
   "metadata": {},
   "outputs": [
    {
     "name": "stdout",
     "output_type": "stream",
     "text": [
      "              precision    recall  f1-score   support\n",
      "\n",
      "         bof       0.05      0.28      0.08        47\n",
      "         bon       0.36      0.36      0.36       285\n",
      "         nul       0.00      0.00      0.00         0\n",
      "       super       0.33      0.16      0.22       118\n",
      "       sympa       0.58      0.36      0.44       550\n",
      "\n",
      "    accuracy                           0.33      1000\n",
      "   macro avg       0.26      0.23      0.22      1000\n",
      "weighted avg       0.46      0.33      0.38      1000\n",
      "\n"
     ]
    },
    {
     "name": "stderr",
     "output_type": "stream",
     "text": [
      "/opt/homebrew/anaconda3/lib/python3.9/site-packages/sklearn/metrics/_classification.py:1248: UndefinedMetricWarning: Recall and F-score are ill-defined and being set to 0.0 in labels with no true samples. Use `zero_division` parameter to control this behavior.\n",
      "  _warn_prf(average, modifier, msg_start, len(result))\n",
      "/opt/homebrew/anaconda3/lib/python3.9/site-packages/sklearn/metrics/_classification.py:1248: UndefinedMetricWarning: Recall and F-score are ill-defined and being set to 0.0 in labels with no true samples. Use `zero_division` parameter to control this behavior.\n",
      "  _warn_prf(average, modifier, msg_start, len(result))\n",
      "/opt/homebrew/anaconda3/lib/python3.9/site-packages/sklearn/metrics/_classification.py:1248: UndefinedMetricWarning: Recall and F-score are ill-defined and being set to 0.0 in labels with no true samples. Use `zero_division` parameter to control this behavior.\n",
      "  _warn_prf(average, modifier, msg_start, len(result))\n"
     ]
    }
   ],
   "source": [
    "from sklearn.metrics import classification_report\n",
    "print(classification_report(reglog.predict(X_test), y_test));"
   ]
  },
  {
   "cell_type": "markdown",
   "metadata": {},
   "source": [
    "<a id='autre_class'></a>"
   ]
  },
  {
   "cell_type": "markdown",
   "metadata": {
    "colab_type": "text",
    "id": "nNnaPdClkRvC"
   },
   "source": [
    "## **10. Un autre modèle de classification**"
   ]
  },
  {
   "cell_type": "markdown",
   "metadata": {},
   "source": [
    "**À FAIRE**\n",
    "\n",
    ">Au choix, une autre méthode de classification. Évidemment, sentez-vous libre d'en essayer plus d'une et de les comparer.  \n",
    ">Sont donc attendus dans cette partie :\n",
    ">- une petite phrase pour justifier votre choix\n",
    ">- les pré-traitements supplémentaires nécessaires s'il y en a\n",
    ">- évaluation du modèle\n",
    ">- étude de l'importance des paramètres, si votre modèle le permet\n",
    ">- affinage des éventuels hyperparamètres"
   ]
  },
  {
   "cell_type": "markdown",
   "metadata": {
    "collapsed": false
   },
   "source": [
    "**Justifier le choix des modeles de classification**"
   ]
  },
  {
   "cell_type": "markdown",
   "metadata": {
    "collapsed": false
   },
   "source": [
    "**1er choix : SVM\n",
    "Cette méthode de classification dépend seulement de quelques vecteurs supports, donc très compact en termes d'espaces mémoire et aussi très rapide à entrainer**"
   ]
  },
  {
   "cell_type": "code",
   "execution_count": 81,
   "metadata": {},
   "outputs": [],
   "source": [
    "from sklearn.svm import SVC"
   ]
  },
  {
   "cell_type": "markdown",
   "metadata": {},
   "source": [
    "<a id='option'></a>"
   ]
  },
  {
   "cell_type": "markdown",
   "metadata": {
    "collapsed": false
   },
   "source": [
    "**pour le kernel == rbf**"
   ]
  },
  {
   "cell_type": "code",
   "execution_count": 86,
   "metadata": {
    "collapsed": false,
    "pycharm": {
     "name": "#%%\n"
    }
   },
   "outputs": [
    {
     "name": "stdout",
     "output_type": "stream",
     "text": [
      "              precision    recall  f1-score   support\n",
      "\n",
      "         bof       0.37      0.46      0.41       279\n",
      "         bon       0.52      0.20      0.29       287\n",
      "         nul       0.00      0.00      0.00        31\n",
      "       super       0.80      0.21      0.33        58\n",
      "       sympa       0.38      0.57      0.46       345\n",
      "\n",
      "    accuracy                           0.40      1000\n",
      "   macro avg       0.41      0.29      0.30      1000\n",
      "weighted avg       0.43      0.40      0.37      1000\n",
      "\n"
     ]
    },
    {
     "name": "stderr",
     "output_type": "stream",
     "text": [
      "/opt/homebrew/anaconda3/lib/python3.9/site-packages/sklearn/metrics/_classification.py:1248: UndefinedMetricWarning: Precision and F-score are ill-defined and being set to 0.0 in labels with no predicted samples. Use `zero_division` parameter to control this behavior.\n",
      "  _warn_prf(average, modifier, msg_start, len(result))\n",
      "/opt/homebrew/anaconda3/lib/python3.9/site-packages/sklearn/metrics/_classification.py:1248: UndefinedMetricWarning: Precision and F-score are ill-defined and being set to 0.0 in labels with no predicted samples. Use `zero_division` parameter to control this behavior.\n",
      "  _warn_prf(average, modifier, msg_start, len(result))\n",
      "/opt/homebrew/anaconda3/lib/python3.9/site-packages/sklearn/metrics/_classification.py:1248: UndefinedMetricWarning: Precision and F-score are ill-defined and being set to 0.0 in labels with no predicted samples. Use `zero_division` parameter to control this behavior.\n",
      "  _warn_prf(average, modifier, msg_start, len(result))\n"
     ]
    }
   ],
   "source": [
    "svc_rbf = SVC(kernel='rbf', C= 1)\n",
    "svc_rbf.fit(X_train, y_train)\n",
    "print(classification_report( y_test, svc_rbf.predict(X_test)));"
   ]
  },
  {
   "cell_type": "markdown",
   "metadata": {
    "collapsed": false
   },
   "source": [
    "**pour le kernel == poly**"
   ]
  },
  {
   "cell_type": "code",
   "execution_count": 87,
   "metadata": {
    "collapsed": false,
    "pycharm": {
     "name": "#%%\n"
    }
   },
   "outputs": [
    {
     "name": "stdout",
     "output_type": "stream",
     "text": [
      "              precision    recall  f1-score   support\n",
      "\n",
      "         bof       0.00      0.00      0.00       279\n",
      "         bon       0.55      0.09      0.16       287\n",
      "         nul       0.00      0.00      0.00        31\n",
      "       super       0.80      0.21      0.33        58\n",
      "       sympa       0.36      0.97      0.52       345\n",
      "\n",
      "    accuracy                           0.38      1000\n",
      "   macro avg       0.34      0.25      0.20      1000\n",
      "weighted avg       0.33      0.38      0.25      1000\n",
      "\n"
     ]
    },
    {
     "name": "stderr",
     "output_type": "stream",
     "text": [
      "/opt/homebrew/anaconda3/lib/python3.9/site-packages/sklearn/metrics/_classification.py:1248: UndefinedMetricWarning: Precision and F-score are ill-defined and being set to 0.0 in labels with no predicted samples. Use `zero_division` parameter to control this behavior.\n",
      "  _warn_prf(average, modifier, msg_start, len(result))\n",
      "/opt/homebrew/anaconda3/lib/python3.9/site-packages/sklearn/metrics/_classification.py:1248: UndefinedMetricWarning: Precision and F-score are ill-defined and being set to 0.0 in labels with no predicted samples. Use `zero_division` parameter to control this behavior.\n",
      "  _warn_prf(average, modifier, msg_start, len(result))\n",
      "/opt/homebrew/anaconda3/lib/python3.9/site-packages/sklearn/metrics/_classification.py:1248: UndefinedMetricWarning: Precision and F-score are ill-defined and being set to 0.0 in labels with no predicted samples. Use `zero_division` parameter to control this behavior.\n",
      "  _warn_prf(average, modifier, msg_start, len(result))\n"
     ]
    }
   ],
   "source": [
    "svc_poly = SVC(kernel='poly', C= 1, gamma='scale')\n",
    "svc_poly.fit(X_train, y_train)\n",
    "print(classification_report( y_test, svc_poly.predict(X_test)))"
   ]
  },
  {
   "cell_type": "markdown",
   "metadata": {
    "collapsed": false
   },
   "source": [
    "**2eme choix : Random forest\n",
    "Tant bien même que cette technique reste parfois difficilement interprétable,  Cette méthode de classification demeure facile et rapide à mettre en oeuvre avec des classes qui sont tres indépendantes les une des autres**"
   ]
  },
  {
   "cell_type": "code",
   "execution_count": 88,
   "metadata": {
    "collapsed": false,
    "pycharm": {
     "name": "#%%\n"
    }
   },
   "outputs": [],
   "source": [
    "from sklearn.ensemble import RandomForestClassifier"
   ]
  },
  {
   "cell_type": "code",
   "execution_count": 89,
   "metadata": {
    "collapsed": false,
    "pycharm": {
     "name": "#%%\n"
    }
   },
   "outputs": [
    {
     "name": "stderr",
     "output_type": "stream",
     "text": [
      "/opt/homebrew/anaconda3/lib/python3.9/site-packages/joblib/externals/loky/process_executor.py:702: UserWarning: A worker stopped while some jobs were given to the executor. This can be caused by a too short worker timeout or by a memory leak.\n",
      "  warnings.warn(\n"
     ]
    },
    {
     "name": "stdout",
     "output_type": "stream",
     "text": [
      "              precision    recall  f1-score   support\n",
      "\n",
      "         bof       0.56      0.63      0.59       279\n",
      "         bon       0.61      0.55      0.58       287\n",
      "         nul       0.20      0.03      0.06        31\n",
      "       super       0.68      0.26      0.38        58\n",
      "       sympa       0.51      0.59      0.54       345\n",
      "\n",
      "    accuracy                           0.55      1000\n",
      "   macro avg       0.51      0.41      0.43      1000\n",
      "weighted avg       0.55      0.55      0.54      1000\n",
      "\n"
     ]
    }
   ],
   "source": [
    "param_grid = {\n",
    "    'max_depth': [50, 100, 150],\n",
    "    'n_estimators': [100, 500, 1000, 1500],\n",
    "    'random_state' :[0]\n",
    "}\n",
    "\n",
    "grid_search_rfc = GridSearchCV(RandomForestClassifier(), param_grid = param_grid, cv = 3, n_jobs = -1)\n",
    "grid_search_rfc.fit(X_train, y_train)\n",
    "print(classification_report(y_test, grid_search_rfc.predict(X_test), zero_division=0))"
   ]
  },
  {
   "cell_type": "markdown",
   "metadata": {
    "collapsed": false
   },
   "source": [
    "**Intrpretation des resultats se fera sur le modele des forets aleatoires >> accuracy plus elevé**"
   ]
  },
  {
   "cell_type": "code",
   "execution_count": 90,
   "metadata": {
    "collapsed": false,
    "pycharm": {
     "name": "#%%\n"
    }
   },
   "outputs": [
    {
     "data": {
      "text/plain": "<Figure size 1008x1008 with 1 Axes>",
      "image/png": "[encoded data removed]"
     },
     "metadata": {
      "needs_background": "light"
     },
     "output_type": "display_data"
    }
   ],
   "source": [
    "feature_importance = grid_search_rfc.best_estimator_.feature_importances_\n",
    "sorted_importance = np.argsort(feature_importance)\n",
    "pos = np.arange(len(sorted_importance))\n",
    "plt.figure(figsize=(14,14))\n",
    "plt.barh(pos, feature_importance[sorted_importance],align='center')\n",
    "plt.yticks(pos, X_train.columns[sorted_importance],fontsize=15)\n",
    "plt.title('Feature Importance ',fontsize=18)\n",
    "plt.show()"
   ]
  },
  {
   "cell_type": "markdown",
   "metadata": {
    "colab_type": "text",
    "id": "nNnaPdClkRvC"
   },
   "source": [
    "## **11. En option**"
   ]
  },
  {
   "cell_type": "markdown",
   "metadata": {
    "collapsed": false
   },
   "source": []
  },
  {
   "cell_type": "markdown",
   "metadata": {},
   "source": [
    "Bravo, si vous êtes arrivés jusqu'ici !!!\n",
    "\n",
    "Pour les flèches, hésitez pas à continuer si vous en voulez encore et pour les autres, hésitez pas à y revenir à l'occasion."
   ]
  },
  {
   "cell_type": "markdown",
   "metadata": {},
   "source": [
    "<a id='reco'></a>"
   ]
  },
  {
   "cell_type": "markdown",
   "metadata": {
    "colab_type": "text",
    "id": "nNnaPdClkRvC"
   },
   "source": [
    "### **11.1. Un outil de recommandation**"
   ]
  },
  {
   "cell_type": "markdown",
   "metadata": {},
   "source": [
    "**À FAIRE**\n",
    "\n",
    ">Question un peu plus ouverte pour terminer: en utilisant une méthode de clustering (donc d'apprentissage non-supervisé), construisez un petit outil de recommandation de films.  \n",
    ">Pour un film donné, votre méthode doit donc retourner les films qui lui ressemblent le plus.  \n",
    ">Pour rappel, on avait fait un petit exercice comme celui-ci lorsqu'on avait vu les *k-plus proches voisins*, donc vous êtes invités à ne pas utiliser kNN, sinon c'est pas drôle...\n",
    ">Vous pourrez bientôt aller plus loin en créant une petite application web permettant une interface pour choisir un film."
   ]
  },
  {
   "cell_type": "code",
   "execution_count": 91,
   "metadata": {
    "collapsed": false,
    "pycharm": {
     "name": "#%%\n"
    }
   },
   "outputs": [
    {
     "data": {
      "text/plain": "3    1851\n2    1398\n4    1327\n5     250\n1     172\nName: imdb_score, dtype: int64"
     },
     "execution_count": 91,
     "metadata": {},
     "output_type": "execute_result"
    }
   ],
   "source": [
    "y_ord = pd.cut(df['imdb_score'], bins=[0,4,6,7,8,10], right=True, labels= [1, 2, 3, 4,5])\n",
    "y_ord.value_counts()"
   ]
  },
  {
   "cell_type": "code",
   "execution_count": 99,
   "outputs": [
    {
     "data": {
      "text/plain": "((3998, 43), (1000, 43), (3998,), (1000,))"
     },
     "execution_count": 99,
     "metadata": {},
     "output_type": "execute_result"
    }
   ],
   "source": [
    "from sklearn.model_selection import train_test_split\n",
    "X_train, X_test, y_train, y_test = train_test_split(X, y_ord, test_size=0.2, random_state=42)\n",
    "X_train.shape, X_test.shape, y_train.shape, y_test.shape"
   ],
   "metadata": {
    "collapsed": false,
    "pycharm": {
     "name": "#%%\n"
    }
   }
  },
  {
   "cell_type": "markdown",
   "source": [
    "**1er modele de Clustering: KMEANS >> pour rapidement classifier des données volumineuses**"
   ],
   "metadata": {
    "collapsed": false
   }
  },
  {
   "cell_type": "code",
   "execution_count": 103,
   "metadata": {},
   "outputs": [],
   "source": [
    "from sklearn.cluster import KMeans\n",
    "km = KMeans(n_clusters = 5)\n",
    "km.fit(X_train)\n",
    "y_pred_km = km.predict(X_test)"
   ]
  },
  {
   "cell_type": "markdown",
   "metadata": {
    "collapsed": false
   },
   "source": [
    "**Evaluation du modele KMeans**"
   ]
  },
  {
   "cell_type": "code",
   "execution_count": null,
   "metadata": {
    "collapsed": false,
    "pycharm": {
     "name": "#%%\n",
     "is_executing": true
    }
   },
   "outputs": [],
   "source": [
    "# matrice de confusion\n",
    "from sklearn.metrics import confusion_matrix, classification_report\n",
    "import seaborn as sns\n",
    "sns.heatmap(confusion_matrix(y_pred_km,y_test, labels=km.labels_), annot=True,  fmt='d', cbar=False);"
   ]
  },
  {
   "cell_type": "markdown",
   "metadata": {
    "collapsed": false
   },
   "source": [
    "**Le souci revient à chosir le nombre de cluster ou classes qui definissera bine le modele**"
   ]
  },
  {
   "cell_type": "markdown",
   "metadata": {
    "collapsed": false
   },
   "source": [
    "**Calculons la somme des distances de chaque points du modele à son centroïde**"
   ]
  },
  {
   "cell_type": "code",
   "execution_count": null,
   "metadata": {
    "collapsed": false,
    "pycharm": {
     "name": "#%%\n"
    }
   },
   "outputs": [],
   "source": [
    "sommes_distances = [KMeans(n_clusters=k).fit(X_train).inertia_ for k in range(1,20)]"
   ]
  },
  {
   "cell_type": "code",
   "execution_count": null,
   "metadata": {
    "collapsed": false,
    "pycharm": {
     "name": "#%%\n"
    }
   },
   "outputs": [],
   "source": [
    "plt.figure(figsize=(12,6))\n",
    "plt.plot(range(1,20), sommes_distances)\n",
    "plt.xlabel(\"Valeur de K\")\n",
    "plt.ylabel(\"Somme des distances de chaque point à leur centroïde\")\n",
    "plt.xticks(range(1,20));"
   ]
  },
  {
   "cell_type": "markdown",
   "metadata": {
    "collapsed": false
   },
   "source": [
    "**Visualisation des clusters du modele avec les différentes valeurs de k**"
   ]
  },
  {
   "cell_type": "code",
   "execution_count": null,
   "metadata": {},
   "outputs": [],
   "source": [
    "km2 = KMeans(2).fit(X_train, y_train)\n",
    "km_2cl = km2.predict(X_test);"
   ]
  },
  {
   "cell_type": "code",
   "execution_count": null,
   "metadata": {},
   "outputs": [],
   "source": [
    "\n",
    "km3 = KMeans(3).fit(X_train, y_train)\n",
    "km_3cl = km3.predict(X_test);"
   ]
  },
  {
   "cell_type": "code",
   "execution_count": null,
   "metadata": {},
   "outputs": [],
   "source": [
    "km4 = KMeans(4).fit(X_train, y_train)\n",
    "km_4cl = km4.predict(X_test);"
   ]
  },
  {
   "cell_type": "code",
   "execution_count": null,
   "metadata": {},
   "outputs": [],
   "source": [
    "import matplotlib.pyplot as plt\n",
    "fig , (ax1, ax2, ax3) = plt.subplots(1,3, figsize=(21,6))\n",
    "\n",
    "ax1.scatter(X[:,0], X[:,1], c=km2.labels_)\n",
    "\n",
    "plt.show()"
   ]
  },
  {
   "cell_type": "code",
   "execution_count": null,
   "metadata": {
    "collapsed": false,
    "pycharm": {
     "name": "#%%\n"
    }
   },
   "outputs": [],
   "source": [
    "# on choisit 3, 4 ou 5 classes\n",
    "df.index = y_ord\n",
    "df['km_2cl'] = KMeans(2).fit(X).labels_\n",
    "df['km_3cl'] = KMeans(3).fit(X).labels_\n",
    "df['km_4cl'] = KMeans(4).fit(X).labels_\n",
    "df['km_5cl'] = KMeans(5).fit(X).labels_\n",
    "df[['km_2cl','km_3cl', 'km_4cl', 'km_5cl']].sort_values('km_5cl', axis=0)"
   ]
  },
  {
   "cell_type": "code",
   "execution_count": null,
   "metadata": {},
   "outputs": [],
   "source": []
  },
  {
   "cell_type": "markdown",
   "metadata": {
    "collapsed": false
   },
   "source": [
    "**2e modele de Clustering: DBSCAN >> pour rapidement classifier des données volumineuses en laissant le choix au modele de determiner lui même le nombre de clusters adaptés**"
   ]
  },
  {
   "cell_type": "code",
   "execution_count": null,
   "metadata": {
    "collapsed": false,
    "pycharm": {
     "name": "#%%\n"
    }
   },
   "outputs": [],
   "source": [
    "from sklearn.cluster import DBSCAN\n",
    "pred=df[['km_2cl','km_3cl', 'km_4cl', 'km_5cl']]\n",
    "for eps in [2, 2.25, 2.5]:\n",
    "    for min_samples in [2, 3]:\n",
    "        db = DBSCAN(eps=eps ,min_samples=min_samples).fit(X)\n",
    "        pred.loc[:, f'db_{eps}_{min_samples}'] = db.labels_\n",
    "pred.sort_values('km_3cl', axis=0)"
   ]
  },
  {
   "cell_type": "markdown",
   "metadata": {
    "collapsed": false
   },
   "source": []
  },
  {
   "cell_type": "code",
   "execution_count": null,
   "metadata": {
    "collapsed": false,
    "pycharm": {
     "name": "#%%\n"
    }
   },
   "outputs": [],
   "source": []
  },
  {
   "cell_type": "markdown",
   "metadata": {
    "colab_type": "text",
    "id": "nNnaPdClkRvC"
   },
   "source": [
    "### **11.2. Sauvegarder un modèle**"
   ]
  },
  {
   "cell_type": "markdown",
   "metadata": {},
   "source": [
    "**À FAIRE**\n",
    "\n",
    ">Utilisez le module `pickle` pour sauvegarder le meilleur de vos modèles et le recharger ensuite."
   ]
  },
  {
   "cell_type": "code",
   "execution_count": null,
   "metadata": {},
   "outputs": [],
   "source": []
  },
  {
   "cell_type": "markdown",
   "metadata": {},
   "source": [
    "<a id='acp'></a>"
   ]
  },
  {
   "cell_type": "markdown",
   "metadata": {
    "colab_type": "text",
    "id": "nNnaPdClkRvC"
   },
   "source": [
    "### **11.3. Analyse en Composantes Principales**"
   ]
  },
  {
   "cell_type": "markdown",
   "metadata": {},
   "source": [
    "**À FAIRE**\n",
    "\n",
    ">Utilisez une ACP pour visualiser vos données en dimension 2 ou 3 avec des points dont la couleur varie en fonction de la classe.  "
   ]
  },
  {
   "cell_type": "code",
   "execution_count": null,
   "metadata": {},
   "outputs": [],
   "source": [
    "from sklearn.decomposition import PCA\n",
    "pca = PCA(n_components = 2)\n",
    "pca.fit(X_train)\n",
    "X_pca = pca.transform(X_train)"
   ]
  },
  {
   "cell_type": "code",
   "execution_count": null,
   "metadata": {
    "collapsed": false,
    "pycharm": {
     "name": "#%%\n"
    }
   },
   "outputs": [],
   "source": [
    "pca.explained_variance_ratio_"
   ]
  },
  {
   "cell_type": "code",
   "execution_count": null,
   "metadata": {
    "collapsed": false,
    "pycharm": {
     "name": "#%%\n"
    }
   },
   "outputs": [],
   "source": [
    "plt.figure(figsize=(10,8))\n",
    "scat = plt.scatter(X_pca[:,0], X_pca[:,1],\n",
    "                   c=y_train,\n",
    "                   alpha=0.5, s=12)\n",
    "plt.legend(*scat.legend_elements());"
   ]
  },
  {
   "cell_type": "code",
   "execution_count": null,
   "metadata": {
    "collapsed": false,
    "pycharm": {
     "name": "#%%\n"
    }
   },
   "outputs": [],
   "source": []
  }
 ],
 "metadata": {
  "colab": {
   "name": "US Income Final.ipynb",
   "provenance": [],
   "toc_visible": true,
   "version": "0.3.2"
  },
  "interpreter": {
   "hash": "bc9174bd11146c105197d9c650c3b6579d399c879146ae7710dd12439de34b37"
  },
  "kernelspec": {
   "display_name": "Python 3.10.0 64-bit ('3.10.0': pyenv)",
   "language": "python",
   "name": "python3"
  },
  "language_info": {
   "codemirror_mode": {
    "name": "ipython",
    "version": 3
   },
   "file_extension": ".py",
   "mimetype": "text/x-python",
   "name": "python",
   "nbconvert_exporter": "python",
   "pygments_lexer": "ipython3",
   "version": "3.9.7"
  }
 },
 "nbformat": 4,
 "nbformat_minor": 4
}